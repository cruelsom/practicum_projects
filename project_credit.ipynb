{
 "cells": [
  {
   "cell_type": "markdown",
   "id": "82f15634",
   "metadata": {},
   "source": [
    "<div style=\"border:solid Chocolate 2px; padding: 40px\">\n",
    "\n",
    "<b>Иван, привет!</b>\n",
    "\n",
    "Меня зовут Евгений Головин, я буду ревьюером твоего проекта. Если ты не против, то предлагаю посмотрить наше общение на \"ты\" ;) Если удобнее на \"вы\", то нет проблем, только скажи об этом. \n",
    "\n",
    "В ходе работы я оставил тебе комментарии <font color='green'>зеленого</font>, <font color='gold'>желтого</font> и <font color='red'>красного</font> цветов. Сейчас объясню, что они значат:\n",
    "\n",
    "<br/>\n",
    "\n",
    "<div class=\"alert alert-success\">\n",
    "<h2> Комментарий ревьюера <a class=\"tocSkip\"> </h2>\n",
    "\n",
    "<b>Все супер!👍:</b> Решение на этом шаге является полностью правильным.\n",
    "</div>\n",
    "\n",
    "<br/>\n",
    "\n",
    "<div class=\"alert alert-warning\">\n",
    "    <h2> Комментарий ревьюера <a class=\"tocSkip\"> </h2>\n",
    "    \n",
    "<b>Небольшие замечания и рекомендации💡:</b> Решение на этом шаге станет еще лучше, если внести небольшие коррективы.\n",
    "</div>\n",
    "\n",
    "\n",
    "<br/>\n",
    "<div class=\"alert alert-block alert-danger\">\n",
    "<h2> Комментарий ревьюера <a class=\"tocSkip\"></h2>\n",
    "\n",
    "    \n",
    "<b>На доработку🤔:</b>\n",
    " Решение на этом шаге требует существенной переработки и внесения правок. Напоминаю, что проект не может быть принят с первого раза, если ревью содержит комментарии, рекомендующие доработать шаги.\n",
    "</div>\n",
    "    \n",
    "Увидев мой комментарий, не удаляй его, он будет очень полезен в случае повторной проверки работы :)\n",
    "    \n",
    "<div class=\"alert alert-info\">\n",
    "<b>А свой помечай вот так, чтобы я его не потерял ;)</b> \n",
    "</div>\n",
    "    \n",
    "Увидев мой комментарий, не удаляй его, он будет очень полезен в случае повторной проверки работы :)\n",
    "    \n",
    "На мои комменатрии можно и нужно реагировать, только делать это стоит так, чтобы твои и мои комменты не смешались: выделяй свои цветами, сильно отличающимися от моих.\n",
    "    \n",
    "Увидев у тебя неточность, в первый раз я лишь укажу на ее наличие и дам тебе возможность самому найти и исправить ее. На реальной работе твой руководитель будет поступать также, и я пытаюсь подготовить тебя именно к работе аналитиком. Но если ты пока не справишься с такой задачей - при следующей проверке я дам более точную подсказку!"
   ]
  },
  {
   "cell_type": "markdown",
   "id": "3fd107d0",
   "metadata": {
    "deletable": false,
    "editable": false,
    "id": "c81daeeb"
   },
   "source": [
    "# Исследование надежности заемщиков\n"
   ]
  },
  {
   "cell_type": "markdown",
   "id": "54e6a26a",
   "metadata": {
    "deletable": false,
    "editable": false,
    "id": "827c20bf"
   },
   "source": [
    "Во второй части проекта вы выполните шаги 3 и 4. Их вручную проверит ревьюер.\n",
    "Чтобы вам не пришлось писать код заново для шагов 1 и 2, мы добавили авторские решения в ячейки с кодом. \n",
    "\n"
   ]
  },
  {
   "cell_type": "markdown",
   "id": "0951ad91",
   "metadata": {},
   "source": [
    "<div class=\"alert alert-success\">\n",
    "<h2> Комментарий ревьюера <a class=\"tocSkip\"> </h2>\n",
    "\n",
    "<b>Все супер!👍:</b> Тогда давай сразу туда и переноситься!"
   ]
  },
  {
   "cell_type": "markdown",
   "id": "c21c6bdb",
   "metadata": {
    "deletable": false,
    "editable": false,
    "id": "744d7639"
   },
   "source": [
    "## Откройте таблицу и изучите общую информацию о данных"
   ]
  },
  {
   "cell_type": "markdown",
   "id": "e206bd51",
   "metadata": {
    "deletable": false,
    "editable": false,
    "id": "e7a14c31"
   },
   "source": [
    "**Задание 1. Импортируйте библиотеку pandas. Считайте данные из csv-файла в датафрейм и сохраните в переменную `data`. Путь к файлу:**\n",
    "\n",
    "`/datasets/data.csv`"
   ]
  },
  {
   "cell_type": "code",
   "execution_count": 2,
   "id": "ec325df2",
   "metadata": {
    "deletable": false,
    "id": "7bcf75c9"
   },
   "outputs": [],
   "source": [
    "import pandas as pd\n",
    "\n",
    "try:\n",
    "    data = pd.read_csv('/datasets/data.csv')\n",
    "except:\n",
    "    data = pd.read_csv('https://code.s3.yandex.net/datasets/data.csv')"
   ]
  },
  {
   "cell_type": "markdown",
   "id": "1f61eb67",
   "metadata": {
    "deletable": false,
    "editable": false,
    "id": "b8038fe3"
   },
   "source": [
    "**Задание 2. Выведите первые 20 строчек датафрейма `data` на экран.**"
   ]
  },
  {
   "cell_type": "code",
   "execution_count": 3,
   "id": "01994de1",
   "metadata": {
    "deletable": false,
    "id": "2a7cab99",
    "outputId": "1a8f3ef2-d323-4ec2-ddf7-89670b5944c4"
   },
   "outputs": [
    {
     "data": {
      "text/html": [
       "<div>\n",
       "<style scoped>\n",
       "    .dataframe tbody tr th:only-of-type {\n",
       "        vertical-align: middle;\n",
       "    }\n",
       "\n",
       "    .dataframe tbody tr th {\n",
       "        vertical-align: top;\n",
       "    }\n",
       "\n",
       "    .dataframe thead th {\n",
       "        text-align: right;\n",
       "    }\n",
       "</style>\n",
       "<table border=\"1\" class=\"dataframe\">\n",
       "  <thead>\n",
       "    <tr style=\"text-align: right;\">\n",
       "      <th></th>\n",
       "      <th>children</th>\n",
       "      <th>days_employed</th>\n",
       "      <th>dob_years</th>\n",
       "      <th>education</th>\n",
       "      <th>education_id</th>\n",
       "      <th>family_status</th>\n",
       "      <th>family_status_id</th>\n",
       "      <th>gender</th>\n",
       "      <th>income_type</th>\n",
       "      <th>debt</th>\n",
       "      <th>total_income</th>\n",
       "      <th>purpose</th>\n",
       "    </tr>\n",
       "  </thead>\n",
       "  <tbody>\n",
       "    <tr>\n",
       "      <th>0</th>\n",
       "      <td>1</td>\n",
       "      <td>-8437.673028</td>\n",
       "      <td>42</td>\n",
       "      <td>высшее</td>\n",
       "      <td>0</td>\n",
       "      <td>женат / замужем</td>\n",
       "      <td>0</td>\n",
       "      <td>F</td>\n",
       "      <td>сотрудник</td>\n",
       "      <td>0</td>\n",
       "      <td>253875.639453</td>\n",
       "      <td>покупка жилья</td>\n",
       "    </tr>\n",
       "    <tr>\n",
       "      <th>1</th>\n",
       "      <td>1</td>\n",
       "      <td>-4024.803754</td>\n",
       "      <td>36</td>\n",
       "      <td>среднее</td>\n",
       "      <td>1</td>\n",
       "      <td>женат / замужем</td>\n",
       "      <td>0</td>\n",
       "      <td>F</td>\n",
       "      <td>сотрудник</td>\n",
       "      <td>0</td>\n",
       "      <td>112080.014102</td>\n",
       "      <td>приобретение автомобиля</td>\n",
       "    </tr>\n",
       "    <tr>\n",
       "      <th>2</th>\n",
       "      <td>0</td>\n",
       "      <td>-5623.422610</td>\n",
       "      <td>33</td>\n",
       "      <td>Среднее</td>\n",
       "      <td>1</td>\n",
       "      <td>женат / замужем</td>\n",
       "      <td>0</td>\n",
       "      <td>M</td>\n",
       "      <td>сотрудник</td>\n",
       "      <td>0</td>\n",
       "      <td>145885.952297</td>\n",
       "      <td>покупка жилья</td>\n",
       "    </tr>\n",
       "    <tr>\n",
       "      <th>3</th>\n",
       "      <td>3</td>\n",
       "      <td>-4124.747207</td>\n",
       "      <td>32</td>\n",
       "      <td>среднее</td>\n",
       "      <td>1</td>\n",
       "      <td>женат / замужем</td>\n",
       "      <td>0</td>\n",
       "      <td>M</td>\n",
       "      <td>сотрудник</td>\n",
       "      <td>0</td>\n",
       "      <td>267628.550329</td>\n",
       "      <td>дополнительное образование</td>\n",
       "    </tr>\n",
       "    <tr>\n",
       "      <th>4</th>\n",
       "      <td>0</td>\n",
       "      <td>340266.072047</td>\n",
       "      <td>53</td>\n",
       "      <td>среднее</td>\n",
       "      <td>1</td>\n",
       "      <td>гражданский брак</td>\n",
       "      <td>1</td>\n",
       "      <td>F</td>\n",
       "      <td>пенсионер</td>\n",
       "      <td>0</td>\n",
       "      <td>158616.077870</td>\n",
       "      <td>сыграть свадьбу</td>\n",
       "    </tr>\n",
       "    <tr>\n",
       "      <th>5</th>\n",
       "      <td>0</td>\n",
       "      <td>-926.185831</td>\n",
       "      <td>27</td>\n",
       "      <td>высшее</td>\n",
       "      <td>0</td>\n",
       "      <td>гражданский брак</td>\n",
       "      <td>1</td>\n",
       "      <td>M</td>\n",
       "      <td>компаньон</td>\n",
       "      <td>0</td>\n",
       "      <td>255763.565419</td>\n",
       "      <td>покупка жилья</td>\n",
       "    </tr>\n",
       "    <tr>\n",
       "      <th>6</th>\n",
       "      <td>0</td>\n",
       "      <td>-2879.202052</td>\n",
       "      <td>43</td>\n",
       "      <td>высшее</td>\n",
       "      <td>0</td>\n",
       "      <td>женат / замужем</td>\n",
       "      <td>0</td>\n",
       "      <td>F</td>\n",
       "      <td>компаньон</td>\n",
       "      <td>0</td>\n",
       "      <td>240525.971920</td>\n",
       "      <td>операции с жильем</td>\n",
       "    </tr>\n",
       "    <tr>\n",
       "      <th>7</th>\n",
       "      <td>0</td>\n",
       "      <td>-152.779569</td>\n",
       "      <td>50</td>\n",
       "      <td>СРЕДНЕЕ</td>\n",
       "      <td>1</td>\n",
       "      <td>женат / замужем</td>\n",
       "      <td>0</td>\n",
       "      <td>M</td>\n",
       "      <td>сотрудник</td>\n",
       "      <td>0</td>\n",
       "      <td>135823.934197</td>\n",
       "      <td>образование</td>\n",
       "    </tr>\n",
       "    <tr>\n",
       "      <th>8</th>\n",
       "      <td>2</td>\n",
       "      <td>-6929.865299</td>\n",
       "      <td>35</td>\n",
       "      <td>ВЫСШЕЕ</td>\n",
       "      <td>0</td>\n",
       "      <td>гражданский брак</td>\n",
       "      <td>1</td>\n",
       "      <td>F</td>\n",
       "      <td>сотрудник</td>\n",
       "      <td>0</td>\n",
       "      <td>95856.832424</td>\n",
       "      <td>на проведение свадьбы</td>\n",
       "    </tr>\n",
       "    <tr>\n",
       "      <th>9</th>\n",
       "      <td>0</td>\n",
       "      <td>-2188.756445</td>\n",
       "      <td>41</td>\n",
       "      <td>среднее</td>\n",
       "      <td>1</td>\n",
       "      <td>женат / замужем</td>\n",
       "      <td>0</td>\n",
       "      <td>M</td>\n",
       "      <td>сотрудник</td>\n",
       "      <td>0</td>\n",
       "      <td>144425.938277</td>\n",
       "      <td>покупка жилья для семьи</td>\n",
       "    </tr>\n",
       "    <tr>\n",
       "      <th>10</th>\n",
       "      <td>2</td>\n",
       "      <td>-4171.483647</td>\n",
       "      <td>36</td>\n",
       "      <td>высшее</td>\n",
       "      <td>0</td>\n",
       "      <td>женат / замужем</td>\n",
       "      <td>0</td>\n",
       "      <td>M</td>\n",
       "      <td>компаньон</td>\n",
       "      <td>0</td>\n",
       "      <td>113943.491460</td>\n",
       "      <td>покупка недвижимости</td>\n",
       "    </tr>\n",
       "    <tr>\n",
       "      <th>11</th>\n",
       "      <td>0</td>\n",
       "      <td>-792.701887</td>\n",
       "      <td>40</td>\n",
       "      <td>среднее</td>\n",
       "      <td>1</td>\n",
       "      <td>женат / замужем</td>\n",
       "      <td>0</td>\n",
       "      <td>F</td>\n",
       "      <td>сотрудник</td>\n",
       "      <td>0</td>\n",
       "      <td>77069.234271</td>\n",
       "      <td>покупка коммерческой недвижимости</td>\n",
       "    </tr>\n",
       "    <tr>\n",
       "      <th>12</th>\n",
       "      <td>0</td>\n",
       "      <td>NaN</td>\n",
       "      <td>65</td>\n",
       "      <td>среднее</td>\n",
       "      <td>1</td>\n",
       "      <td>гражданский брак</td>\n",
       "      <td>1</td>\n",
       "      <td>M</td>\n",
       "      <td>пенсионер</td>\n",
       "      <td>0</td>\n",
       "      <td>NaN</td>\n",
       "      <td>сыграть свадьбу</td>\n",
       "    </tr>\n",
       "    <tr>\n",
       "      <th>13</th>\n",
       "      <td>0</td>\n",
       "      <td>-1846.641941</td>\n",
       "      <td>54</td>\n",
       "      <td>неоконченное высшее</td>\n",
       "      <td>2</td>\n",
       "      <td>женат / замужем</td>\n",
       "      <td>0</td>\n",
       "      <td>F</td>\n",
       "      <td>сотрудник</td>\n",
       "      <td>0</td>\n",
       "      <td>130458.228857</td>\n",
       "      <td>приобретение автомобиля</td>\n",
       "    </tr>\n",
       "    <tr>\n",
       "      <th>14</th>\n",
       "      <td>0</td>\n",
       "      <td>-1844.956182</td>\n",
       "      <td>56</td>\n",
       "      <td>высшее</td>\n",
       "      <td>0</td>\n",
       "      <td>гражданский брак</td>\n",
       "      <td>1</td>\n",
       "      <td>F</td>\n",
       "      <td>компаньон</td>\n",
       "      <td>1</td>\n",
       "      <td>165127.911772</td>\n",
       "      <td>покупка жилой недвижимости</td>\n",
       "    </tr>\n",
       "    <tr>\n",
       "      <th>15</th>\n",
       "      <td>1</td>\n",
       "      <td>-972.364419</td>\n",
       "      <td>26</td>\n",
       "      <td>среднее</td>\n",
       "      <td>1</td>\n",
       "      <td>женат / замужем</td>\n",
       "      <td>0</td>\n",
       "      <td>F</td>\n",
       "      <td>сотрудник</td>\n",
       "      <td>0</td>\n",
       "      <td>116820.904450</td>\n",
       "      <td>строительство собственной недвижимости</td>\n",
       "    </tr>\n",
       "    <tr>\n",
       "      <th>16</th>\n",
       "      <td>0</td>\n",
       "      <td>-1719.934226</td>\n",
       "      <td>35</td>\n",
       "      <td>среднее</td>\n",
       "      <td>1</td>\n",
       "      <td>женат / замужем</td>\n",
       "      <td>0</td>\n",
       "      <td>F</td>\n",
       "      <td>сотрудник</td>\n",
       "      <td>0</td>\n",
       "      <td>289202.704229</td>\n",
       "      <td>недвижимость</td>\n",
       "    </tr>\n",
       "    <tr>\n",
       "      <th>17</th>\n",
       "      <td>0</td>\n",
       "      <td>-2369.999720</td>\n",
       "      <td>33</td>\n",
       "      <td>высшее</td>\n",
       "      <td>0</td>\n",
       "      <td>гражданский брак</td>\n",
       "      <td>1</td>\n",
       "      <td>M</td>\n",
       "      <td>сотрудник</td>\n",
       "      <td>0</td>\n",
       "      <td>90410.586745</td>\n",
       "      <td>строительство недвижимости</td>\n",
       "    </tr>\n",
       "    <tr>\n",
       "      <th>18</th>\n",
       "      <td>0</td>\n",
       "      <td>400281.136913</td>\n",
       "      <td>53</td>\n",
       "      <td>среднее</td>\n",
       "      <td>1</td>\n",
       "      <td>вдовец / вдова</td>\n",
       "      <td>2</td>\n",
       "      <td>F</td>\n",
       "      <td>пенсионер</td>\n",
       "      <td>0</td>\n",
       "      <td>56823.777243</td>\n",
       "      <td>на покупку подержанного автомобиля</td>\n",
       "    </tr>\n",
       "    <tr>\n",
       "      <th>19</th>\n",
       "      <td>0</td>\n",
       "      <td>-10038.818549</td>\n",
       "      <td>48</td>\n",
       "      <td>СРЕДНЕЕ</td>\n",
       "      <td>1</td>\n",
       "      <td>в разводе</td>\n",
       "      <td>3</td>\n",
       "      <td>F</td>\n",
       "      <td>сотрудник</td>\n",
       "      <td>0</td>\n",
       "      <td>242831.107982</td>\n",
       "      <td>на покупку своего автомобиля</td>\n",
       "    </tr>\n",
       "  </tbody>\n",
       "</table>\n",
       "</div>"
      ],
      "text/plain": [
       "    children  days_employed  dob_years            education  education_id  \\\n",
       "0          1   -8437.673028         42               высшее             0   \n",
       "1          1   -4024.803754         36              среднее             1   \n",
       "2          0   -5623.422610         33              Среднее             1   \n",
       "3          3   -4124.747207         32              среднее             1   \n",
       "4          0  340266.072047         53              среднее             1   \n",
       "5          0    -926.185831         27               высшее             0   \n",
       "6          0   -2879.202052         43               высшее             0   \n",
       "7          0    -152.779569         50              СРЕДНЕЕ             1   \n",
       "8          2   -6929.865299         35               ВЫСШЕЕ             0   \n",
       "9          0   -2188.756445         41              среднее             1   \n",
       "10         2   -4171.483647         36               высшее             0   \n",
       "11         0    -792.701887         40              среднее             1   \n",
       "12         0            NaN         65              среднее             1   \n",
       "13         0   -1846.641941         54  неоконченное высшее             2   \n",
       "14         0   -1844.956182         56               высшее             0   \n",
       "15         1    -972.364419         26              среднее             1   \n",
       "16         0   -1719.934226         35              среднее             1   \n",
       "17         0   -2369.999720         33               высшее             0   \n",
       "18         0  400281.136913         53              среднее             1   \n",
       "19         0  -10038.818549         48              СРЕДНЕЕ             1   \n",
       "\n",
       "       family_status  family_status_id gender income_type  debt  \\\n",
       "0    женат / замужем                 0      F   сотрудник     0   \n",
       "1    женат / замужем                 0      F   сотрудник     0   \n",
       "2    женат / замужем                 0      M   сотрудник     0   \n",
       "3    женат / замужем                 0      M   сотрудник     0   \n",
       "4   гражданский брак                 1      F   пенсионер     0   \n",
       "5   гражданский брак                 1      M   компаньон     0   \n",
       "6    женат / замужем                 0      F   компаньон     0   \n",
       "7    женат / замужем                 0      M   сотрудник     0   \n",
       "8   гражданский брак                 1      F   сотрудник     0   \n",
       "9    женат / замужем                 0      M   сотрудник     0   \n",
       "10   женат / замужем                 0      M   компаньон     0   \n",
       "11   женат / замужем                 0      F   сотрудник     0   \n",
       "12  гражданский брак                 1      M   пенсионер     0   \n",
       "13   женат / замужем                 0      F   сотрудник     0   \n",
       "14  гражданский брак                 1      F   компаньон     1   \n",
       "15   женат / замужем                 0      F   сотрудник     0   \n",
       "16   женат / замужем                 0      F   сотрудник     0   \n",
       "17  гражданский брак                 1      M   сотрудник     0   \n",
       "18    вдовец / вдова                 2      F   пенсионер     0   \n",
       "19         в разводе                 3      F   сотрудник     0   \n",
       "\n",
       "     total_income                                 purpose  \n",
       "0   253875.639453                           покупка жилья  \n",
       "1   112080.014102                 приобретение автомобиля  \n",
       "2   145885.952297                           покупка жилья  \n",
       "3   267628.550329              дополнительное образование  \n",
       "4   158616.077870                         сыграть свадьбу  \n",
       "5   255763.565419                           покупка жилья  \n",
       "6   240525.971920                       операции с жильем  \n",
       "7   135823.934197                             образование  \n",
       "8    95856.832424                   на проведение свадьбы  \n",
       "9   144425.938277                 покупка жилья для семьи  \n",
       "10  113943.491460                    покупка недвижимости  \n",
       "11   77069.234271       покупка коммерческой недвижимости  \n",
       "12            NaN                         сыграть свадьбу  \n",
       "13  130458.228857                 приобретение автомобиля  \n",
       "14  165127.911772              покупка жилой недвижимости  \n",
       "15  116820.904450  строительство собственной недвижимости  \n",
       "16  289202.704229                            недвижимость  \n",
       "17   90410.586745              строительство недвижимости  \n",
       "18   56823.777243      на покупку подержанного автомобиля  \n",
       "19  242831.107982            на покупку своего автомобиля  "
      ]
     },
     "execution_count": 3,
     "metadata": {},
     "output_type": "execute_result"
    }
   ],
   "source": [
    "data.head(20)"
   ]
  },
  {
   "cell_type": "markdown",
   "id": "95a669e5",
   "metadata": {
    "deletable": false,
    "editable": false,
    "id": "1c12e233"
   },
   "source": [
    "**Задание 3. Выведите основную информацию о датафрейме с помощью метода `info()`.**"
   ]
  },
  {
   "cell_type": "code",
   "execution_count": 4,
   "id": "63b80c11",
   "metadata": {
    "deletable": false,
    "id": "2b757bca",
    "outputId": "15376089-8dad-46c9-b520-c05248d43158"
   },
   "outputs": [
    {
     "name": "stdout",
     "output_type": "stream",
     "text": [
      "<class 'pandas.core.frame.DataFrame'>\n",
      "RangeIndex: 21525 entries, 0 to 21524\n",
      "Data columns (total 12 columns):\n",
      " #   Column            Non-Null Count  Dtype  \n",
      "---  ------            --------------  -----  \n",
      " 0   children          21525 non-null  int64  \n",
      " 1   days_employed     19351 non-null  float64\n",
      " 2   dob_years         21525 non-null  int64  \n",
      " 3   education         21525 non-null  object \n",
      " 4   education_id      21525 non-null  int64  \n",
      " 5   family_status     21525 non-null  object \n",
      " 6   family_status_id  21525 non-null  int64  \n",
      " 7   gender            21525 non-null  object \n",
      " 8   income_type       21525 non-null  object \n",
      " 9   debt              21525 non-null  int64  \n",
      " 10  total_income      19351 non-null  float64\n",
      " 11  purpose           21525 non-null  object \n",
      "dtypes: float64(2), int64(5), object(5)\n",
      "memory usage: 2.0+ MB\n"
     ]
    }
   ],
   "source": [
    "data.info()"
   ]
  },
  {
   "cell_type": "markdown",
   "id": "4103db0a",
   "metadata": {
    "deletable": false,
    "editable": false,
    "id": "333ec665"
   },
   "source": [
    "## Предобработка данных"
   ]
  },
  {
   "cell_type": "markdown",
   "id": "14e10c13",
   "metadata": {
    "deletable": false,
    "editable": false,
    "id": "02d92d53"
   },
   "source": [
    "### Удаление пропусков"
   ]
  },
  {
   "cell_type": "markdown",
   "id": "650d9c92",
   "metadata": {
    "deletable": false,
    "editable": false,
    "id": "cd84967c"
   },
   "source": [
    "**Задание 4. Выведите количество пропущенных значений для каждого столбца. Используйте комбинацию двух методов.**"
   ]
  },
  {
   "cell_type": "code",
   "execution_count": 5,
   "id": "99f25b3e",
   "metadata": {
    "deletable": false,
    "id": "7f9b2309",
    "outputId": "81f4d817-781c-465c-ed15-91ce4446810d"
   },
   "outputs": [
    {
     "data": {
      "text/plain": [
       "children               0\n",
       "days_employed       2174\n",
       "dob_years              0\n",
       "education              0\n",
       "education_id           0\n",
       "family_status          0\n",
       "family_status_id       0\n",
       "gender                 0\n",
       "income_type            0\n",
       "debt                   0\n",
       "total_income        2174\n",
       "purpose                0\n",
       "dtype: int64"
      ]
     },
     "execution_count": 5,
     "metadata": {},
     "output_type": "execute_result"
    }
   ],
   "source": [
    "data.isna().sum()"
   ]
  },
  {
   "cell_type": "markdown",
   "id": "ff381c3c",
   "metadata": {
    "deletable": false,
    "editable": false,
    "id": "db86e27b"
   },
   "source": [
    "**Задание 5. В двух столбцах есть пропущенные значения. Один из них — `days_employed`. Пропуски в этом столбце вы обработаете на следующем этапе. Другой столбец с пропущенными значениями — `total_income` — хранит данные о доходах. На сумму дохода сильнее всего влияет тип занятости, поэтому заполнить пропуски в этом столбце нужно медианным значением по каждому типу из столбца `income_type`. Например, у человека с типом занятости `сотрудник` пропуск в столбце `total_income` должен быть заполнен медианным доходом среди всех записей с тем же типом.**"
   ]
  },
  {
   "cell_type": "code",
   "execution_count": 6,
   "id": "2685b1f7",
   "metadata": {
    "deletable": false,
    "id": "42006a93"
   },
   "outputs": [],
   "source": [
    "for t in data['income_type'].unique():\n",
    "    data.loc[(data['income_type'] == t) & (data['total_income'].isna()), 'total_income'] = \\\n",
    "    data.loc[(data['income_type'] == t), 'total_income'].median()"
   ]
  },
  {
   "cell_type": "markdown",
   "id": "b9046743",
   "metadata": {
    "deletable": false,
    "editable": false,
    "id": "89da5ece"
   },
   "source": [
    "### Обработка аномальных значений"
   ]
  },
  {
   "cell_type": "markdown",
   "id": "70c2f528",
   "metadata": {
    "deletable": false,
    "editable": false,
    "id": "57964554"
   },
   "source": [
    "**Задание 6. В данных могут встречаться артефакты (аномалии) — значения, которые не отражают действительность и появились по какой-то ошибке. таким артефактом будет отрицательное количество дней трудового стажа в столбце `days_employed`. Для реальных данных это нормально. Обработайте значения в этом столбце: замените все отрицательные значения положительными с помощью метода `abs()`.**"
   ]
  },
  {
   "cell_type": "code",
   "execution_count": 7,
   "id": "1b5eab9f",
   "metadata": {
    "deletable": false,
    "id": "f6f055bf"
   },
   "outputs": [],
   "source": [
    "data['days_employed'] = data['days_employed'].abs()"
   ]
  },
  {
   "cell_type": "markdown",
   "id": "18362b8f",
   "metadata": {
    "deletable": false,
    "editable": false,
    "id": "6107dd2f"
   },
   "source": [
    "**Задание 7. Для каждого типа занятости выведите медианное значение трудового стажа `days_employed` в днях.**"
   ]
  },
  {
   "cell_type": "code",
   "execution_count": 8,
   "id": "6549a35d",
   "metadata": {
    "deletable": false,
    "id": "85a5faf6",
    "outputId": "801ef80e-522b-4668-f34e-565af7432bcf"
   },
   "outputs": [
    {
     "data": {
      "text/plain": [
       "income_type\n",
       "безработный        366413.652744\n",
       "в декрете            3296.759962\n",
       "госслужащий          2689.368353\n",
       "компаньон            1547.382223\n",
       "пенсионер          365213.306266\n",
       "предприниматель       520.848083\n",
       "сотрудник            1574.202821\n",
       "студент               578.751554\n",
       "Name: days_employed, dtype: float64"
      ]
     },
     "execution_count": 8,
     "metadata": {},
     "output_type": "execute_result"
    }
   ],
   "source": [
    "data.groupby('income_type')['days_employed'].agg('median')"
   ]
  },
  {
   "cell_type": "markdown",
   "id": "3b9d413f",
   "metadata": {
    "deletable": false,
    "editable": false,
    "id": "38d1a030"
   },
   "source": [
    "У двух типов (безработные и пенсионеры) получатся аномально большие значения. Исправить такие значения сложно, поэтому оставьте их как есть. Тем более этот столбец не понадобится вам для исследования."
   ]
  },
  {
   "cell_type": "markdown",
   "id": "cea41d83",
   "metadata": {
    "deletable": false,
    "editable": false,
    "id": "d8a9f147"
   },
   "source": [
    "**Задание 8. Выведите перечень уникальных значений столбца `children`.**"
   ]
  },
  {
   "cell_type": "code",
   "execution_count": 9,
   "id": "06a22332",
   "metadata": {
    "deletable": false,
    "id": "ef5056eb",
    "outputId": "6975b15c-7f95-4697-d16d-a0c79b657b03"
   },
   "outputs": [
    {
     "data": {
      "text/plain": [
       "array([ 1,  0,  3,  2, -1,  4, 20,  5])"
      ]
     },
     "execution_count": 9,
     "metadata": {},
     "output_type": "execute_result"
    }
   ],
   "source": [
    "data['children'].unique()"
   ]
  },
  {
   "cell_type": "markdown",
   "id": "cb09d249",
   "metadata": {
    "deletable": false,
    "editable": false,
    "id": "40b9ebf2"
   },
   "source": [
    "**Задание 9. В столбце `children` есть два аномальных значения. Удалите строки, в которых встречаются такие аномальные значения из датафрейма `data`.**"
   ]
  },
  {
   "cell_type": "code",
   "execution_count": 10,
   "id": "57ebd434",
   "metadata": {
    "deletable": false,
    "id": "3ff9801d"
   },
   "outputs": [],
   "source": [
    "data = data[(data['children'] != -1) & (data['children'] != 20)]"
   ]
  },
  {
   "cell_type": "markdown",
   "id": "e1422464",
   "metadata": {
    "deletable": false,
    "editable": false,
    "id": "bbc4d0ce"
   },
   "source": [
    "**Задание 10. Ещё раз выведите перечень уникальных значений столбца `children`, чтобы убедиться, что артефакты удалены.**"
   ]
  },
  {
   "cell_type": "code",
   "execution_count": 11,
   "id": "ab616540",
   "metadata": {
    "deletable": false,
    "id": "ad4fa8b7",
    "outputId": "b2097101-d49d-44d9-901b-32a65c9463d1"
   },
   "outputs": [
    {
     "data": {
      "text/plain": [
       "array([1, 0, 3, 2, 4, 5])"
      ]
     },
     "execution_count": 11,
     "metadata": {},
     "output_type": "execute_result"
    }
   ],
   "source": [
    "data['children'].unique()"
   ]
  },
  {
   "cell_type": "markdown",
   "id": "76aac771",
   "metadata": {
    "deletable": false,
    "editable": false,
    "id": "75440b63"
   },
   "source": [
    "### Удаление пропусков (продолжение)"
   ]
  },
  {
   "cell_type": "markdown",
   "id": "4f4604a1",
   "metadata": {
    "deletable": false,
    "editable": false,
    "id": "f4ea573f"
   },
   "source": [
    "**Задание 11. Заполните пропуски в столбце `days_employed` медианными значениями по каждого типа занятости `income_type`.**"
   ]
  },
  {
   "cell_type": "code",
   "execution_count": 12,
   "id": "eec58512",
   "metadata": {
    "deletable": false,
    "id": "af6b1a7e"
   },
   "outputs": [],
   "source": [
    "for t in data['income_type'].unique():\n",
    "    data.loc[(data['income_type'] == t) & (data['days_employed'].isna()), 'days_employed'] = \\\n",
    "    data.loc[(data['income_type'] == t), 'days_employed'].median()"
   ]
  },
  {
   "cell_type": "markdown",
   "id": "47d87c30",
   "metadata": {
    "deletable": false,
    "editable": false,
    "id": "2753f40d"
   },
   "source": [
    "**Задание 12. Убедитесь, что все пропуски заполнены. Проверьте себя и ещё раз выведите количество пропущенных значений для каждого столбца с помощью двух методов.**"
   ]
  },
  {
   "cell_type": "code",
   "execution_count": 13,
   "id": "f79efe29",
   "metadata": {
    "deletable": false,
    "id": "55f78bc2",
    "outputId": "8da1e4e1-358e-4e87-98c9-f261bce0a7b2"
   },
   "outputs": [
    {
     "data": {
      "text/plain": [
       "children            0\n",
       "days_employed       0\n",
       "dob_years           0\n",
       "education           0\n",
       "education_id        0\n",
       "family_status       0\n",
       "family_status_id    0\n",
       "gender              0\n",
       "income_type         0\n",
       "debt                0\n",
       "total_income        0\n",
       "purpose             0\n",
       "dtype: int64"
      ]
     },
     "execution_count": 13,
     "metadata": {},
     "output_type": "execute_result"
    }
   ],
   "source": [
    "data.isna().sum()"
   ]
  },
  {
   "cell_type": "markdown",
   "id": "5328db70",
   "metadata": {
    "deletable": false,
    "editable": false,
    "id": "ddc81e43"
   },
   "source": [
    "### Изменение типов данных"
   ]
  },
  {
   "cell_type": "markdown",
   "id": "64bb5057",
   "metadata": {
    "deletable": false,
    "editable": false,
    "id": "42d19d24"
   },
   "source": [
    "**Задание 13. Замените вещественный тип данных в столбце `total_income` на целочисленный с помощью метода `astype()`.**"
   ]
  },
  {
   "cell_type": "code",
   "execution_count": 14,
   "id": "a1c8c11e",
   "metadata": {
    "deletable": false,
    "id": "920b65ad"
   },
   "outputs": [],
   "source": [
    "data['total_income'] = data['total_income'].astype(int)"
   ]
  },
  {
   "cell_type": "markdown",
   "id": "73e45752",
   "metadata": {
    "deletable": false,
    "editable": false,
    "id": "80c420ba"
   },
   "source": [
    "### Обработка дубликатов"
   ]
  },
  {
   "cell_type": "markdown",
   "id": "f07ced33",
   "metadata": {
    "deletable": false,
    "editable": false
   },
   "source": [
    "**Задание 14. Обработайте неявные дубликаты в столбце `education`. В этом столбце есть одни и те же значения, но записанные по-разному: с использованием заглавных и строчных букв. Приведите их к нижнему регистру. Проверьте остальные столбцы.**"
   ]
  },
  {
   "cell_type": "code",
   "execution_count": 15,
   "id": "c681e6cb",
   "metadata": {
    "deletable": false
   },
   "outputs": [],
   "source": [
    "data['education'] = data['education'].str.lower()"
   ]
  },
  {
   "cell_type": "markdown",
   "id": "94c314aa",
   "metadata": {
    "deletable": false,
    "editable": false,
    "id": "dc587695"
   },
   "source": [
    "**Задание 15. Выведите на экран количество строк-дубликатов в данных. Если такие строки присутствуют, удалите их.**"
   ]
  },
  {
   "cell_type": "code",
   "execution_count": 16,
   "id": "4977b54a",
   "metadata": {
    "deletable": false,
    "id": "3ee445e4",
    "outputId": "9684deba-1934-42d1-99e1-cda61740f822"
   },
   "outputs": [
    {
     "data": {
      "text/plain": [
       "71"
      ]
     },
     "execution_count": 16,
     "metadata": {},
     "output_type": "execute_result"
    }
   ],
   "source": [
    "data.duplicated().sum()"
   ]
  },
  {
   "cell_type": "code",
   "execution_count": 17,
   "id": "4a463f62",
   "metadata": {
    "deletable": false,
    "id": "8575fe05"
   },
   "outputs": [],
   "source": [
    "data = data.drop_duplicates()"
   ]
  },
  {
   "cell_type": "markdown",
   "id": "9fbd3cb1",
   "metadata": {
    "deletable": false,
    "editable": false,
    "id": "9904cf55"
   },
   "source": [
    "### Категоризация данных"
   ]
  },
  {
   "cell_type": "markdown",
   "id": "d6cac577",
   "metadata": {
    "deletable": false,
    "editable": false,
    "id": "72fcc8a2"
   },
   "source": [
    "**Задание 16. На основании диапазонов, указанных ниже, создайте в датафрейме `data` столбец `total_income_category` с категориями:**\n",
    "\n",
    "- 0–30000 — `'E'`;\n",
    "- 30001–50000 — `'D'`;\n",
    "- 50001–200000 — `'C'`;\n",
    "- 200001–1000000 — `'B'`;\n",
    "- 1000001 и выше — `'A'`.\n",
    "\n",
    "\n",
    "**Например, кредитополучателю с доходом 25000 нужно назначить категорию `'E'`, а клиенту, получающему 235000, — `'B'`. Используйте собственную функцию с именем `categorize_income()` и метод `apply()`.**"
   ]
  },
  {
   "cell_type": "code",
   "execution_count": 18,
   "id": "006bf1c2",
   "metadata": {
    "deletable": false,
    "id": "e1771346"
   },
   "outputs": [],
   "source": [
    "def categorize_income(income):\n",
    "    try:\n",
    "        if 0 <= income <= 30000:\n",
    "            return 'E'\n",
    "        elif 30001 <= income <= 50000:\n",
    "            return 'D'\n",
    "        elif 50001 <= income <= 200000:\n",
    "            return 'C'\n",
    "        elif 200001 <= income <= 1000000:\n",
    "            return 'B'\n",
    "        elif income >= 1000001:\n",
    "            return 'A'\n",
    "    except:\n",
    "        pass"
   ]
  },
  {
   "cell_type": "code",
   "execution_count": 19,
   "id": "29fa47ec",
   "metadata": {
    "deletable": false,
    "id": "d5f3586d"
   },
   "outputs": [],
   "source": [
    "data['total_income_category'] = data['total_income'].apply(categorize_income)"
   ]
  },
  {
   "cell_type": "markdown",
   "id": "1b14d998",
   "metadata": {
    "deletable": false,
    "editable": false,
    "id": "dde49b5c"
   },
   "source": [
    "**Задание 17. Выведите на экран перечень уникальных целей взятия кредита из столбца `purpose`.**"
   ]
  },
  {
   "cell_type": "code",
   "execution_count": 20,
   "id": "03f6e108",
   "metadata": {
    "deletable": false,
    "id": "f67ce9b3",
    "outputId": "673c12d9-7d7e-4ae0-9812-c622c89dd244"
   },
   "outputs": [
    {
     "data": {
      "text/plain": [
       "array(['покупка жилья', 'приобретение автомобиля',\n",
       "       'дополнительное образование', 'сыграть свадьбу',\n",
       "       'операции с жильем', 'образование', 'на проведение свадьбы',\n",
       "       'покупка жилья для семьи', 'покупка недвижимости',\n",
       "       'покупка коммерческой недвижимости', 'покупка жилой недвижимости',\n",
       "       'строительство собственной недвижимости', 'недвижимость',\n",
       "       'строительство недвижимости', 'на покупку подержанного автомобиля',\n",
       "       'на покупку своего автомобиля',\n",
       "       'операции с коммерческой недвижимостью',\n",
       "       'строительство жилой недвижимости', 'жилье',\n",
       "       'операции со своей недвижимостью', 'автомобили',\n",
       "       'заняться образованием', 'сделка с подержанным автомобилем',\n",
       "       'получение образования', 'автомобиль', 'свадьба',\n",
       "       'получение дополнительного образования', 'покупка своего жилья',\n",
       "       'операции с недвижимостью', 'получение высшего образования',\n",
       "       'свой автомобиль', 'сделка с автомобилем',\n",
       "       'профильное образование', 'высшее образование',\n",
       "       'покупка жилья для сдачи', 'на покупку автомобиля', 'ремонт жилью',\n",
       "       'заняться высшим образованием'], dtype=object)"
      ]
     },
     "execution_count": 20,
     "metadata": {},
     "output_type": "execute_result"
    }
   ],
   "source": [
    "data['purpose'].unique()"
   ]
  },
  {
   "cell_type": "markdown",
   "id": "453ed30c",
   "metadata": {
    "deletable": false,
    "editable": false,
    "id": "85d0aef0"
   },
   "source": [
    "**Задание 18. Создайте функцию, которая на основании данных из столбца `purpose` сформирует новый столбец `purpose_category`, в который войдут следующие категории:**\n",
    "\n",
    "- `'операции с автомобилем'`,\n",
    "- `'операции с недвижимостью'`,\n",
    "- `'проведение свадьбы'`,\n",
    "- `'получение образования'`.\n",
    "\n",
    "**Например, если в столбце `purpose` находится подстрока `'на покупку автомобиля'`, то в столбце `purpose_category` должна появиться строка `'операции с автомобилем'`.**\n",
    "\n",
    "**Используйте собственную функцию с именем `categorize_purpose()` и метод `apply()`. Изучите данные в столбце `purpose` и определите, какие подстроки помогут вам правильно определить категорию.**"
   ]
  },
  {
   "cell_type": "code",
   "execution_count": 21,
   "id": "273935eb",
   "metadata": {
    "deletable": false,
    "id": "e149fab4"
   },
   "outputs": [],
   "source": [
    "def categorize_purpose(row):\n",
    "    try:\n",
    "        if 'автом' in row:\n",
    "            return 'операции с автомобилем'\n",
    "        elif 'жил' in row or 'недвиж' in row:\n",
    "            return 'операции с недвижимостью'\n",
    "        elif 'свад' in row:\n",
    "            return 'проведение свадьбы'\n",
    "        elif 'образов' in row:\n",
    "            return 'получение образования'\n",
    "    except:\n",
    "        return 'нет категории'"
   ]
  },
  {
   "cell_type": "code",
   "execution_count": 22,
   "id": "86fe89ae",
   "metadata": {
    "deletable": false,
    "id": "bf36e69b"
   },
   "outputs": [],
   "source": [
    "data['purpose_category'] = data['purpose'].apply(categorize_purpose)"
   ]
  },
  {
   "cell_type": "markdown",
   "id": "1421867f",
   "metadata": {},
   "source": [
    "<div class=\"alert alert-success\">\n",
    "<h2> Комментарий ревьюера <a class=\"tocSkip\"> </h2>\n",
    "\n",
    "<b>Все супер!👍:</b> Так, нам сюда"
   ]
  },
  {
   "cell_type": "markdown",
   "id": "41ef1efa",
   "metadata": {
    "deletable": false,
    "editable": false,
    "id": "09b242bf"
   },
   "source": [
    "### Шаг 3. Исследуйте данные и ответьте на вопросы"
   ]
  },
  {
   "cell_type": "markdown",
   "id": "4e5d5bfe",
   "metadata": {
    "deletable": false,
    "editable": false,
    "id": "c5d66278"
   },
   "source": [
    "#### 3.1 Есть ли зависимость между количеством детей и возвратом кредита в срок?"
   ]
  },
  {
   "cell_type": "markdown",
   "id": "2a26c31d",
   "metadata": {},
   "source": [
    "Посчитаем процет просрочек по каждой группе"
   ]
  },
  {
   "cell_type": "code",
   "execution_count": 23,
   "id": "f1ff66df",
   "metadata": {},
   "outputs": [
    {
     "data": {
      "text/plain": [
       "children\n",
       "0    1063\n",
       "1     444\n",
       "2     194\n",
       "3      27\n",
       "4       4\n",
       "5       0\n",
       "Name: debt, dtype: int64"
      ]
     },
     "execution_count": 23,
     "metadata": {},
     "output_type": "execute_result"
    }
   ],
   "source": [
    "# количество просрочек в каждой группе\n",
    "data.groupby('children')['debt'].sum()"
   ]
  },
  {
   "cell_type": "code",
   "execution_count": 24,
   "id": "2d94674f",
   "metadata": {},
   "outputs": [
    {
     "data": {
      "text/plain": [
       "children\n",
       "0    14091\n",
       "1     4808\n",
       "2     2052\n",
       "3      330\n",
       "4       41\n",
       "5        9\n",
       "Name: children, dtype: int64"
      ]
     },
     "execution_count": 24,
     "metadata": {},
     "output_type": "execute_result"
    }
   ],
   "source": [
    "# общее количество записей в каждой группе\n",
    "data.groupby('children')['children'].count()"
   ]
  },
  {
   "cell_type": "code",
   "execution_count": 25,
   "id": "0a9ba45f",
   "metadata": {},
   "outputs": [
    {
     "data": {
      "text/plain": [
       "children\n",
       "0    66.058788\n",
       "1    22.539965\n",
       "2     9.619802\n",
       "3     1.547044\n",
       "4     0.192209\n",
       "5     0.042192\n",
       "Name: children, dtype: float64"
      ]
     },
     "execution_count": 25,
     "metadata": {},
     "output_type": "execute_result"
    }
   ],
   "source": [
    "# доля заёмщиков в каждой группе от общего количества записей в датасете\n",
    "data.groupby('children')['children'].count() / data['children'].count() * 100"
   ]
  },
  {
   "cell_type": "code",
   "execution_count": 26,
   "id": "71d74529",
   "metadata": {
    "deletable": false,
    "id": "2cacfc4a"
   },
   "outputs": [
    {
     "data": {
      "text/plain": [
       "children\n",
       "0    7.543822\n",
       "1    9.234609\n",
       "2    9.454191\n",
       "3    8.181818\n",
       "4    9.756098\n",
       "5    0.000000\n",
       "dtype: float64"
      ]
     },
     "execution_count": 26,
     "metadata": {},
     "output_type": "execute_result"
    }
   ],
   "source": [
    "# процент просрочек по каждой группе \n",
    "debt_by_children_ratio = data.groupby('children')['debt'].sum() / data.groupby('children')['children'].count() * 100\n",
    "debt_by_children_ratio"
   ]
  },
  {
   "cell_type": "markdown",
   "id": "eb7d7d2b",
   "metadata": {},
   "source": [
    "<div class=\"alert alert-warning\">\n",
    "    <h2> Комментарий ревьюера <a class=\"tocSkip\"> </h2>\n",
    "    \n",
    "<b>Небольшие замечания и рекомендации💡:</b> Хорошо, но предлагаю тебе использовать следующий код для всех тех же самых действий, он сэкономит тебе силы:\n",
    "        \n",
    "        data_new = data.pivot_table(index='select_category', values='debt', aggfunc=['count', 'sum', 'mean'])\n",
    "    "
   ]
  },
  {
   "cell_type": "code",
   "execution_count": 27,
   "id": "e4348483",
   "metadata": {},
   "outputs": [
    {
     "data": {
      "text/plain": [
       "8.320083154921265"
      ]
     },
     "execution_count": 27,
     "metadata": {},
     "output_type": "execute_result"
    }
   ],
   "source": [
    "# средний процент просрочек по всем группам\n",
    "debt_by_children_ratio[data['children'] > 0].mean()"
   ]
  },
  {
   "cell_type": "markdown",
   "id": "999b42d9",
   "metadata": {},
   "source": [
    "<div class=\"alert alert-info\">\n",
    "<b>Привет, Евгений!\n",
    "    Я добавлю новое решение ниже, а старое оставлю для сравнения. Удалю его после сдачи проекта \n",
    "    Ещё добавил форматирование для значений с плавающей точкой</b> \n",
    "</div>"
   ]
  },
  {
   "cell_type": "markdown",
   "id": "41d44c28",
   "metadata": {},
   "source": [
    "<div class=\"alert alert-success\">\n",
    "<h2> Комментарий ревьюера v2 <a class=\"tocSkip\"> </h2>\n",
    "\n",
    "<b>Все супер!👍:</b> Иван, приве еще раз! Отличная идея, дава й так и посутпим) Извини, что долго не выходил на связь, не мог зайти в аккаунт :("
   ]
  },
  {
   "cell_type": "code",
   "execution_count": 47,
   "id": "3f27e797",
   "metadata": {},
   "outputs": [
    {
     "data": {
      "text/html": [
       "<div>\n",
       "<style scoped>\n",
       "    .dataframe tbody tr th:only-of-type {\n",
       "        vertical-align: middle;\n",
       "    }\n",
       "\n",
       "    .dataframe tbody tr th {\n",
       "        vertical-align: top;\n",
       "    }\n",
       "\n",
       "    .dataframe thead tr th {\n",
       "        text-align: left;\n",
       "    }\n",
       "\n",
       "    .dataframe thead tr:last-of-type th {\n",
       "        text-align: right;\n",
       "    }\n",
       "</style>\n",
       "<table border=\"1\" class=\"dataframe\">\n",
       "  <thead>\n",
       "    <tr>\n",
       "      <th></th>\n",
       "      <th>count</th>\n",
       "      <th>sum</th>\n",
       "      <th>mean</th>\n",
       "    </tr>\n",
       "    <tr>\n",
       "      <th></th>\n",
       "      <th>debt</th>\n",
       "      <th>debt</th>\n",
       "      <th>debt</th>\n",
       "    </tr>\n",
       "    <tr>\n",
       "      <th>children</th>\n",
       "      <th></th>\n",
       "      <th></th>\n",
       "      <th></th>\n",
       "    </tr>\n",
       "  </thead>\n",
       "  <tbody>\n",
       "    <tr>\n",
       "      <th>0</th>\n",
       "      <td>14091</td>\n",
       "      <td>1063</td>\n",
       "      <td>7.54%</td>\n",
       "    </tr>\n",
       "    <tr>\n",
       "      <th>1</th>\n",
       "      <td>4808</td>\n",
       "      <td>444</td>\n",
       "      <td>9.23%</td>\n",
       "    </tr>\n",
       "    <tr>\n",
       "      <th>2</th>\n",
       "      <td>2052</td>\n",
       "      <td>194</td>\n",
       "      <td>9.45%</td>\n",
       "    </tr>\n",
       "    <tr>\n",
       "      <th>3</th>\n",
       "      <td>330</td>\n",
       "      <td>27</td>\n",
       "      <td>8.18%</td>\n",
       "    </tr>\n",
       "    <tr>\n",
       "      <th>4</th>\n",
       "      <td>41</td>\n",
       "      <td>4</td>\n",
       "      <td>9.76%</td>\n",
       "    </tr>\n",
       "    <tr>\n",
       "      <th>5</th>\n",
       "      <td>9</td>\n",
       "      <td>0</td>\n",
       "      <td>0.00%</td>\n",
       "    </tr>\n",
       "  </tbody>\n",
       "</table>\n",
       "</div>"
      ],
      "text/plain": [
       "          count   sum  mean\n",
       "           debt  debt  debt\n",
       "children                   \n",
       "0         14091  1063 7.54%\n",
       "1          4808   444 9.23%\n",
       "2          2052   194 9.45%\n",
       "3           330    27 8.18%\n",
       "4            41     4 9.76%\n",
       "5             9     0 0.00%"
      ]
     },
     "execution_count": 47,
     "metadata": {},
     "output_type": "execute_result"
    }
   ],
   "source": [
    "pd.set_option('display.float_format', '{:.2%}'.format)\n",
    "data_new = data.pivot_table(index='children', values='debt', aggfunc=['count', 'sum', 'mean'])\n",
    "data_new"
   ]
  },
  {
   "cell_type": "markdown",
   "id": "e47a3129",
   "metadata": {
    "deletable": false,
    "id": "3a6b99ec"
   },
   "source": [
    "**Вывод:** \\\n",
    "*в исходном датасете отсутствует информация о возврате кредита в срок. Из описания следует, что в столбце 'debt' отражается наличие просрочки, что не свидетельствует о возврате/невозврате кредита в срок, а говорит о наличии просрочек, которые могли быть течение периода погашения задолженности. Примем в качестве допущения, что наличие просрочки свидетельствует о невозврате кредита в срок*\n",
    "\n",
    "Зависимость между количеством детей и наличием просрочек практически  отсутствует. Наиболее надёжные клиенты - клиенты без детей. Среди заёмщиков с детьми отклонения процента просрочек по каждой группе от среднего в пределах 1%. Отсутствие просрочек в группе с 5 детьми скорее отражает нерепрезентативность выборки, т.к. доля этой группы во всём датасете занимает меньше 0,05%  \n",
    "\n",
    "<div class=\"alert alert-info\">\n",
    "<b>UPD. Наиболее надёжные клиенты - клиенты без детей. Среди заёмщиков с детьми отклонения процента просрочек по каждой группе от среднего несущественное. Отсутствие просрочек в группе с 3-5 детьми скорее отражает нерепрезентативность выборки, т.к. доля этих группы во всём датасете мала  </b> \n",
    "</div>\n",
    "\n",
    "*P.S. вероятнее всего ход решения настолько подробно в реальном проекте расписывать не стоит, но я захотел сохранить на будущее для себя ход мыслей*"
   ]
  },
  {
   "cell_type": "markdown",
   "id": "6bb13cc1",
   "metadata": {},
   "source": [
    "<div class=\"alert alert-success\">\n",
    "<h2> Комментарий ревьюера v2 <a class=\"tocSkip\"> </h2>\n",
    "\n",
    "<b>Все супер!👍:</b> Верно, молодец!"
   ]
  },
  {
   "cell_type": "markdown",
   "id": "dbd7aed1",
   "metadata": {},
   "source": [
    "<div class=\"alert alert-warning\">\n",
    "    <h2> Комментарий ревьюера <a class=\"tocSkip\"> </h2>\n",
    "    \n",
    "<b>Небольшие замечания и рекомендации💡:</b> Да, в реально проекте не стоит расписывать все мысли, но на стадии обучения можно. По поводу отсувия завиисмоти - я бы не стал делать выводы, пока рассмотрел количественно все категории. Что я имею ввиду: в категории с 5 детьми ты верно обозначил, что вывод будет не репрезентативен из-за малочисленности, так вот буду тли выводы репрезентативны по 3 и 4 ребенкам? На мой взгляд нет, тогда для анализа остаются только категории с 0, 1, 2 детьми, то естть по ним нужно делать вывод. Отмечу, что ты верно обозначит, что самые надежные заемщики бездетные "
   ]
  },
  {
   "cell_type": "markdown",
   "id": "5e35e9db",
   "metadata": {
    "deletable": false,
    "editable": false,
    "id": "97be82ca"
   },
   "source": [
    "#### 3.2 Есть ли зависимость между семейным положением и возвратом кредита в срок?"
   ]
  },
  {
   "cell_type": "code",
   "execution_count": 30,
   "id": "ea8be901",
   "metadata": {},
   "outputs": [
    {
     "data": {
      "text/plain": [
       "array(['женат / замужем', 'гражданский брак', 'вдовец / вдова',\n",
       "       'в разводе', 'Не женат / не замужем'], dtype=object)"
      ]
     },
     "execution_count": 30,
     "metadata": {},
     "output_type": "execute_result"
    }
   ],
   "source": [
    "# проверим столбец с семейным положением на наличие пропусков и ошибок\n",
    "data['family_status'].unique()"
   ]
  },
  {
   "cell_type": "code",
   "execution_count": 31,
   "id": "4f480c69",
   "metadata": {
    "deletable": false,
    "id": "dc3f7ee8",
    "scrolled": false
   },
   "outputs": [
    {
     "data": {
      "text/plain": [
       "family_status\n",
       "Не женат / не замужем    9.763948\n",
       "в разводе                7.064760\n",
       "вдовец / вдова           6.624606\n",
       "гражданский брак         9.313014\n",
       "женат / замужем          7.560558\n",
       "dtype: float64"
      ]
     },
     "execution_count": 31,
     "metadata": {},
     "output_type": "execute_result"
    }
   ],
   "source": [
    "# процент просрочки по каждому статусу семейного положения\n",
    "debt_by_status_ratio = data.groupby('family_status')['debt'].sum() / data.groupby('family_status')['family_status'].count() * 100\n",
    "debt_by_status_ratio"
   ]
  },
  {
   "cell_type": "code",
   "execution_count": 32,
   "id": "13a398df",
   "metadata": {},
   "outputs": [
    {
     "data": {
      "text/plain": [
       "family_status\n",
       "Не женат / не замужем    13.107684\n",
       "в разводе                 5.574047\n",
       "вдовец / вдова            4.458300\n",
       "гражданский брак         19.380245\n",
       "женат / замужем          57.479724\n",
       "Name: family_status, dtype: float64"
      ]
     },
     "execution_count": 32,
     "metadata": {},
     "output_type": "execute_result"
    }
   ],
   "source": [
    "#доля заёмщиков по каждому семейному статусу от общего числа заёмщиков\n",
    "data.groupby('family_status')['family_status'].count() / data['family_status'].count() * 100"
   ]
  },
  {
   "cell_type": "code",
   "execution_count": 33,
   "id": "5b170723",
   "metadata": {},
   "outputs": [
    {
     "data": {
      "text/plain": [
       "8.065377275052759"
      ]
     },
     "execution_count": 33,
     "metadata": {},
     "output_type": "execute_result"
    }
   ],
   "source": [
    "# средний процент просрочки по всем семейным статусам\n",
    "debt_by_status_ratio.mean()"
   ]
  },
  {
   "cell_type": "markdown",
   "id": "56c3dc46",
   "metadata": {},
   "source": [
    "<div class=\"alert alert-info\">\n",
    "<b>Дополнение с учётом замечаний ниже</b> \n",
    "</div>"
   ]
  },
  {
   "cell_type": "code",
   "execution_count": 46,
   "id": "fcd03e22",
   "metadata": {
    "scrolled": false
   },
   "outputs": [
    {
     "data": {
      "text/html": [
       "<div>\n",
       "<style scoped>\n",
       "    .dataframe tbody tr th:only-of-type {\n",
       "        vertical-align: middle;\n",
       "    }\n",
       "\n",
       "    .dataframe tbody tr th {\n",
       "        vertical-align: top;\n",
       "    }\n",
       "\n",
       "    .dataframe thead tr th {\n",
       "        text-align: left;\n",
       "    }\n",
       "\n",
       "    .dataframe thead tr:last-of-type th {\n",
       "        text-align: right;\n",
       "    }\n",
       "</style>\n",
       "<table border=\"1\" class=\"dataframe\">\n",
       "  <thead>\n",
       "    <tr>\n",
       "      <th></th>\n",
       "      <th>count</th>\n",
       "      <th>sum</th>\n",
       "      <th>mean</th>\n",
       "    </tr>\n",
       "    <tr>\n",
       "      <th></th>\n",
       "      <th>debt</th>\n",
       "      <th>debt</th>\n",
       "      <th>debt</th>\n",
       "    </tr>\n",
       "    <tr>\n",
       "      <th>family_status</th>\n",
       "      <th></th>\n",
       "      <th></th>\n",
       "      <th></th>\n",
       "    </tr>\n",
       "  </thead>\n",
       "  <tbody>\n",
       "    <tr>\n",
       "      <th>Не женат / не замужем</th>\n",
       "      <td>2796</td>\n",
       "      <td>273</td>\n",
       "      <td>9.76%</td>\n",
       "    </tr>\n",
       "    <tr>\n",
       "      <th>в разводе</th>\n",
       "      <td>1189</td>\n",
       "      <td>84</td>\n",
       "      <td>7.06%</td>\n",
       "    </tr>\n",
       "    <tr>\n",
       "      <th>вдовец / вдова</th>\n",
       "      <td>951</td>\n",
       "      <td>63</td>\n",
       "      <td>6.62%</td>\n",
       "    </tr>\n",
       "    <tr>\n",
       "      <th>гражданский брак</th>\n",
       "      <td>4134</td>\n",
       "      <td>385</td>\n",
       "      <td>9.31%</td>\n",
       "    </tr>\n",
       "    <tr>\n",
       "      <th>женат / замужем</th>\n",
       "      <td>12261</td>\n",
       "      <td>927</td>\n",
       "      <td>7.56%</td>\n",
       "    </tr>\n",
       "  </tbody>\n",
       "</table>\n",
       "</div>"
      ],
      "text/plain": [
       "                       count  sum  mean\n",
       "                        debt debt  debt\n",
       "family_status                          \n",
       "Не женат / не замужем   2796  273 9.76%\n",
       "в разводе               1189   84 7.06%\n",
       "вдовец / вдова           951   63 6.62%\n",
       "гражданский брак        4134  385 9.31%\n",
       "женат / замужем        12261  927 7.56%"
      ]
     },
     "execution_count": 46,
     "metadata": {},
     "output_type": "execute_result"
    }
   ],
   "source": [
    "data_new = data.pivot_table(index='family_status', values='debt', aggfunc=['count', 'sum', 'mean'])\n",
    "data_new"
   ]
  },
  {
   "cell_type": "markdown",
   "id": "b78bd9fd",
   "metadata": {
    "deletable": false,
    "id": "1cef7837"
   },
   "source": [
    "**Вывод:** \\\n",
    "зависимость просрочек от семейного положения есть, но она не ярко выраженная. Больше всего просрочек у заёмщиков не в браке и в гражданском браке. Выше надёжность заёмщиков в браке, разведённых и вдовцов / вдов "
   ]
  },
  {
   "cell_type": "markdown",
   "id": "50be5db5",
   "metadata": {},
   "source": [
    "<div class=\"alert alert-success\">\n",
    "<h2> Комментарий ревьюера v2 <a class=\"tocSkip\"> </h2>\n",
    "\n",
    "<b>Все супер!👍:</b> Хорошо"
   ]
  },
  {
   "cell_type": "markdown",
   "id": "216d4cfc",
   "metadata": {},
   "source": [
    "<div class=\"alert alert-success\">\n",
    "<h2> Комментарий ревьюера <a class=\"tocSkip\"> </h2>\n",
    "\n",
    "<b>Все супер!👍:</b> Верно, то есть тех людей, кто когда-либо в брак вступал"
   ]
  },
  {
   "cell_type": "markdown",
   "id": "a27ace7e",
   "metadata": {
    "deletable": false,
    "editable": false,
    "id": "1e8b2fca"
   },
   "source": [
    "#### 3.3 Есть ли зависимость между уровнем дохода и возвратом кредита в срок?"
   ]
  },
  {
   "cell_type": "code",
   "execution_count": 34,
   "id": "a81fdf25",
   "metadata": {
    "deletable": false,
    "id": "cd7e3720"
   },
   "outputs": [
    {
     "data": {
      "text/plain": [
       "total_income_category\n",
       "A    8.000000\n",
       "B    7.060231\n",
       "C    8.498210\n",
       "D    6.017192\n",
       "E    9.090909\n",
       "dtype: float64"
      ]
     },
     "execution_count": 34,
     "metadata": {},
     "output_type": "execute_result"
    }
   ],
   "source": [
    "debt_by_income_ratio = data.groupby('total_income_category')['debt'].sum() / data.groupby('total_income_category')['total_income_category'].count() * 100\n",
    "debt_by_income_ratio"
   ]
  },
  {
   "cell_type": "markdown",
   "id": "9e7f2a0d",
   "metadata": {},
   "source": [
    "<div class=\"alert alert-info\">\n",
    "<b>Дополнение с учётом замечаний ниже</b> \n",
    "</div>"
   ]
  },
  {
   "cell_type": "code",
   "execution_count": 55,
   "id": "91cf1508",
   "metadata": {},
   "outputs": [
    {
     "data": {
      "text/html": [
       "<div>\n",
       "<style scoped>\n",
       "    .dataframe tbody tr th:only-of-type {\n",
       "        vertical-align: middle;\n",
       "    }\n",
       "\n",
       "    .dataframe tbody tr th {\n",
       "        vertical-align: top;\n",
       "    }\n",
       "\n",
       "    .dataframe thead tr th {\n",
       "        text-align: left;\n",
       "    }\n",
       "\n",
       "    .dataframe thead tr:last-of-type th {\n",
       "        text-align: right;\n",
       "    }\n",
       "</style>\n",
       "<table border=\"1\" class=\"dataframe\">\n",
       "  <thead>\n",
       "    <tr>\n",
       "      <th></th>\n",
       "      <th>count</th>\n",
       "      <th>sum</th>\n",
       "      <th>mean</th>\n",
       "    </tr>\n",
       "    <tr>\n",
       "      <th></th>\n",
       "      <th>debt</th>\n",
       "      <th>debt</th>\n",
       "      <th>debt</th>\n",
       "    </tr>\n",
       "    <tr>\n",
       "      <th>total_income_category</th>\n",
       "      <th></th>\n",
       "      <th></th>\n",
       "      <th></th>\n",
       "    </tr>\n",
       "  </thead>\n",
       "  <tbody>\n",
       "    <tr>\n",
       "      <th>A</th>\n",
       "      <td>25</td>\n",
       "      <td>2</td>\n",
       "      <td>8.00%</td>\n",
       "    </tr>\n",
       "    <tr>\n",
       "      <th>B</th>\n",
       "      <td>5014</td>\n",
       "      <td>354</td>\n",
       "      <td>7.06%</td>\n",
       "    </tr>\n",
       "    <tr>\n",
       "      <th>C</th>\n",
       "      <td>15921</td>\n",
       "      <td>1353</td>\n",
       "      <td>8.50%</td>\n",
       "    </tr>\n",
       "    <tr>\n",
       "      <th>D</th>\n",
       "      <td>349</td>\n",
       "      <td>21</td>\n",
       "      <td>6.02%</td>\n",
       "    </tr>\n",
       "    <tr>\n",
       "      <th>E</th>\n",
       "      <td>22</td>\n",
       "      <td>2</td>\n",
       "      <td>9.09%</td>\n",
       "    </tr>\n",
       "  </tbody>\n",
       "</table>\n",
       "</div>"
      ],
      "text/plain": [
       "                       count   sum  mean\n",
       "                        debt  debt  debt\n",
       "total_income_category                   \n",
       "A                         25     2 8.00%\n",
       "B                       5014   354 7.06%\n",
       "C                      15921  1353 8.50%\n",
       "D                        349    21 6.02%\n",
       "E                         22     2 9.09%"
      ]
     },
     "execution_count": 55,
     "metadata": {},
     "output_type": "execute_result"
    }
   ],
   "source": [
    "data_new = data.pivot_table(index='total_income_category', values='debt', aggfunc=['count', 'sum', 'mean'])\n",
    "data_new"
   ]
  },
  {
   "cell_type": "markdown",
   "id": "99b2a03e",
   "metadata": {},
   "source": [
    "<div class=\"alert alert-info\">\n",
    "<b>На основе предложенной категоризации невозможно сделать вывод о зависимости уровня дохода и просрочек, т.к. большинство заёмщиков попало в категории B и С с доходами от 50 000 до 1 000 000 (слишком большой разброс). Попробуем поменять распределение доходов по новым категориям </b> \n",
    "</div>"
   ]
  },
  {
   "cell_type": "code",
   "execution_count": 60,
   "id": "4c2ed4d1",
   "metadata": {},
   "outputs": [
    {
     "data": {
      "text/html": [
       "<div>\n",
       "<style scoped>\n",
       "    .dataframe tbody tr th:only-of-type {\n",
       "        vertical-align: middle;\n",
       "    }\n",
       "\n",
       "    .dataframe tbody tr th {\n",
       "        vertical-align: top;\n",
       "    }\n",
       "\n",
       "    .dataframe thead tr th {\n",
       "        text-align: left;\n",
       "    }\n",
       "\n",
       "    .dataframe thead tr:last-of-type th {\n",
       "        text-align: right;\n",
       "    }\n",
       "</style>\n",
       "<table border=\"1\" class=\"dataframe\">\n",
       "  <thead>\n",
       "    <tr>\n",
       "      <th></th>\n",
       "      <th>count</th>\n",
       "      <th>sum</th>\n",
       "      <th>mean</th>\n",
       "    </tr>\n",
       "    <tr>\n",
       "      <th></th>\n",
       "      <th>debt</th>\n",
       "      <th>debt</th>\n",
       "      <th>debt</th>\n",
       "    </tr>\n",
       "    <tr>\n",
       "      <th>new_total_income_category</th>\n",
       "      <th></th>\n",
       "      <th></th>\n",
       "      <th></th>\n",
       "    </tr>\n",
       "  </thead>\n",
       "  <tbody>\n",
       "    <tr>\n",
       "      <th>A</th>\n",
       "      <td>5039</td>\n",
       "      <td>356</td>\n",
       "      <td>7.06%</td>\n",
       "    </tr>\n",
       "    <tr>\n",
       "      <th>B</th>\n",
       "      <td>4738</td>\n",
       "      <td>403</td>\n",
       "      <td>8.51%</td>\n",
       "    </tr>\n",
       "    <tr>\n",
       "      <th>C</th>\n",
       "      <td>7110</td>\n",
       "      <td>619</td>\n",
       "      <td>8.71%</td>\n",
       "    </tr>\n",
       "    <tr>\n",
       "      <th>D</th>\n",
       "      <td>4073</td>\n",
       "      <td>331</td>\n",
       "      <td>8.13%</td>\n",
       "    </tr>\n",
       "    <tr>\n",
       "      <th>E</th>\n",
       "      <td>371</td>\n",
       "      <td>23</td>\n",
       "      <td>6.20%</td>\n",
       "    </tr>\n",
       "  </tbody>\n",
       "</table>\n",
       "</div>"
      ],
      "text/plain": [
       "                          count  sum  mean\n",
       "                           debt debt  debt\n",
       "new_total_income_category                 \n",
       "A                          5039  356 7.06%\n",
       "B                          4738  403 8.51%\n",
       "C                          7110  619 8.71%\n",
       "D                          4073  331 8.13%\n",
       "E                           371   23 6.20%"
      ]
     },
     "execution_count": 60,
     "metadata": {},
     "output_type": "execute_result"
    }
   ],
   "source": [
    "# создаём функцию для присвоения новых категорий. Старую функцию специально оставил, \n",
    "# если \"заказчик\" захочет к ней вернуться или новое распределение не поможет сделать выводы\n",
    "def new_categorize_income(income):\n",
    "    try:\n",
    "        if 0 <= income <= 50000:\n",
    "            return 'E'\n",
    "        elif 50001 <= income <= 100000:\n",
    "            return 'D'\n",
    "        elif 100001 <= income <= 150000:\n",
    "            return 'C'\n",
    "        elif 150001 <= income <= 200000:\n",
    "            return 'B'\n",
    "        elif income >= 200001:\n",
    "            return 'A'\n",
    "    except:\n",
    "        pass\n",
    "    \n",
    "# применяем новую функцию к датасету и создаём новый столбец в данных\n",
    "data['new_total_income_category'] = data['total_income'].apply(new_categorize_income)  \n",
    "# формируем сводную таблицу по новым категориям \n",
    "data_new = data.pivot_table(index='new_total_income_category', values='debt', aggfunc=['count', 'sum', 'mean'])\n",
    "data_new"
   ]
  },
  {
   "cell_type": "markdown",
   "id": "bbe57acf",
   "metadata": {
    "deletable": false,
    "id": "e8593def"
   },
   "source": [
    "**Вывод:** \\\n",
    "Зависимость от уровня дохода есть. Самые ответственные и надёжные заёмщики с уровнем доходов от 30001 до 50000, самая низкая платёжная дисциплина у заёмщиков с уровнем дохода до 30000.\n",
    "\n",
    "<div class=\"alert alert-info\">\n",
    "<b>UPD. Распределение заёмщиков по новым категориям более репрезентативно, т.к. число записей по категориям распределились более равномерно. Меньше всего просрочек у заёмщиков с доходом выше 200 000. У заёмщиков с доходами от 50 000 до 200 000 процент просрочек отличается не сильно. При этом, категория  E остаётся не показательной, т.к. число записей в ней мало.</b> \n",
    "</div>"
   ]
  },
  {
   "cell_type": "markdown",
   "id": "d879cdfb",
   "metadata": {},
   "source": [
    "<div class=\"alert alert-success\">\n",
    "<h2> Комментарий ревьюера v2 <a class=\"tocSkip\"> </h2>\n",
    "\n",
    "<b>Все супер!👍:</b> Согласен!"
   ]
  },
  {
   "cell_type": "markdown",
   "id": "5d93aa51",
   "metadata": {},
   "source": [
    "<div class=\"alert alert-block alert-danger\">\n",
    "<h2> Комментарий ревьюера <a class=\"tocSkip\"></h2>\n",
    "\n",
    "<b>На доработку🤔:</b>  Вот зря ты не смотришь численность категорий. Обязательно открой и посмотри, все ли категории доступны для анализа"
   ]
  },
  {
   "cell_type": "markdown",
   "id": "8fa901f4",
   "metadata": {
    "deletable": false,
    "editable": false,
    "id": "99ecbd1f"
   },
   "source": [
    "#### 3.4 Как разные цели кредита влияют на его возврат в срок?"
   ]
  },
  {
   "cell_type": "code",
   "execution_count": 35,
   "id": "40645a7a",
   "metadata": {
    "deletable": false,
    "id": "2b687290"
   },
   "outputs": [
    {
     "data": {
      "text/plain": [
       "purpose_category\n",
       "операции с автомобилем      9.347978\n",
       "операции с недвижимостью    7.255139\n",
       "получение образования       9.252758\n",
       "проведение свадьбы          7.911803\n",
       "dtype: float64"
      ]
     },
     "execution_count": 35,
     "metadata": {},
     "output_type": "execute_result"
    }
   ],
   "source": [
    "# Ваш код будет здесь. Вы можете создавать новые ячейки.\n",
    "debt_by_purpose_ratio = data.groupby('purpose_category')['debt'].sum() / data.groupby('purpose_category')['purpose_category'].count() * 100\n",
    "debt_by_purpose_ratio"
   ]
  },
  {
   "cell_type": "markdown",
   "id": "a4645b34",
   "metadata": {
    "deletable": false,
    "id": "b4bb2ce6"
   },
   "source": [
    "**Вывод:** \\\n",
    "лучше всего возвращают кредиты на операции с автомобилем и образование, хуже всего на операции с недвижимостью и свадьбу\n",
    "\n",
    "<div class=\"alert alert-info\">\n",
    "<b>UPD. лучше всего возвращают кредиты на операции с недвижимостью и свадьбу, хуже всего на операции с автомобилем и образование</b> \n",
    "</div>"
   ]
  },
  {
   "cell_type": "markdown",
   "id": "e5ef4258",
   "metadata": {},
   "source": [
    "<div class=\"alert alert-success\">\n",
    "<h2> Комментарий ревьюера v2 <a class=\"tocSkip\"> </h2>\n",
    "\n",
    "<b>Все супер!👍:</b> Вот теперь соглашусь)"
   ]
  },
  {
   "cell_type": "markdown",
   "id": "fca7511c",
   "metadata": {},
   "source": [
    "<div class=\"alert alert-block alert-danger\">\n",
    "<h2> Комментарий ревьюера <a class=\"tocSkip\"></h2>\n",
    "\n",
    "<b>На доработку🤔:</b> Уверен? Не наоборот?"
   ]
  },
  {
   "cell_type": "markdown",
   "id": "1e56d6e5",
   "metadata": {
    "deletable": false,
    "editable": false,
    "id": "09c3ac4c"
   },
   "source": [
    "#### 3.5 Приведите возможные причины появления пропусков в исходных данных."
   ]
  },
  {
   "cell_type": "markdown",
   "id": "0eac0c01",
   "metadata": {
    "deletable": false,
    "id": "9da2ceda"
   },
   "source": [
    "*Ответ:* пропуски данных могут быть вызваны невозможность заполнять необходмимые данные - данные по доходам госслужащих могут быть засекречены или могут отсутствовать в зависимости от категории заёмщика - например, у песионеров отсутствуют данные по длительности трудоустройства и доходам"
   ]
  },
  {
   "cell_type": "markdown",
   "id": "e8e85f2c",
   "metadata": {},
   "source": [
    "<div class=\"alert alert-success\">\n",
    "<h2> Комментарий ревьюера <a class=\"tocSkip\"> </h2>\n",
    "\n",
    "<b>Все супер!👍:</b> Да, верно. Также отмечу, что возможно произошла ошибка выгрузки"
   ]
  },
  {
   "cell_type": "markdown",
   "id": "dc1fa892",
   "metadata": {
    "deletable": false,
    "editable": false,
    "id": "7b0487d6"
   },
   "source": [
    "#### 3.6 Объясните, почему заполнить пропуски медианным значением — лучшее решение для количественных переменных."
   ]
  },
  {
   "cell_type": "markdown",
   "id": "3993225a",
   "metadata": {
    "deletable": false,
    "id": "7ecf2b8e"
   },
   "source": [
    "*Ответ:* меданное значение не учитывает аномальные выбросы данных"
   ]
  },
  {
   "cell_type": "markdown",
   "id": "b67f5807",
   "metadata": {},
   "source": [
    "<div class=\"alert alert-success\">\n",
    "<h2> Комментарий ревьюера <a class=\"tocSkip\"> </h2>\n",
    "\n",
    "<b>Все супер!👍:</b> Верно! А среднее учитывает. При этом если медиана и среднее близки, то можно говорить о том, что выбросы малы и выборка относительно чистая"
   ]
  },
  {
   "cell_type": "markdown",
   "id": "1827029e",
   "metadata": {
    "deletable": false,
    "editable": false,
    "id": "6db5255a"
   },
   "source": [
    "### Шаг 4: общий вывод."
   ]
  },
  {
   "cell_type": "markdown",
   "id": "b704bd13",
   "metadata": {
    "deletable": false,
    "id": "bad65432"
   },
   "source": [
    "Для построения модели сокринга стоит учесть следующее: \n",
    "1. заёмщики с детьми наиболее надёжные, чем без детей. При этом количство детей на надёжность замёмщика не влияет. \n",
    "2. самые надёжные заёмщики - находящиеся в браке, разведённые или вдовы/вдовцы\n",
    "3. заёмщики с низким уровнем дохода наименее надёжные, при этом меньше всего просрочек у заёмщиков со средним уровнем доходов\n",
    "4. цель кредита не сильно влияет на наличие просрочек, стоит обращать внимание на другие критерии при оценке заёмщика. При этом отметим, что по операциям с недвижимость и кредиты на свадьбу наиболее рискованные, чем кредиты на образование и операции с автомобилем\n",
    "\n",
    "<div class=\"alert alert-info\">\n",
    "<b>UPD:\n",
    "1. заёмщики детьми наименее надёжные, чем без детей. При этом количство детей на надёжность замёмщика практически не влияет. \n",
    "2. самые надёжные заёмщики те, которые когда-либо находились в браке, в т.ч. разведённые или вдовы/вдовцы\n",
    "3. заёмщики с уровнем дохода выше 200 000 более надёжные, чем другие категории заёмщиков\n",
    "4. цель кредита не сильно влияет на наличие просрочек, стоит обратить внимание на другие критерии при оценке заёмщика. При этом отметим, что кредиты на операции с недвижимостью и свадьбу менее рискованные, чем на операции с автомобилем и образование</b> \n",
    "</div>"
   ]
  },
  {
   "cell_type": "markdown",
   "id": "a56a4d73",
   "metadata": {},
   "source": [
    "<div class=\"alert alert-warning\">\n",
    "    <h2> Комментарий ревьюера v2 <a class=\"tocSkip\"> </h2>\n",
    "    \n",
    "<b>Небольшие замечания и рекомендации💡:</b> Так, а мыже выше установили, что самые надежные заемщики без детей..) Наверно ты просто писался. В остальном хорошо!"
   ]
  },
  {
   "cell_type": "markdown",
   "id": "490e1578",
   "metadata": {},
   "source": [
    "<div class=\"alert alert-block alert-danger\">\n",
    "<h2> Комментарий ревьюера <a class=\"tocSkip\"></h2>\n",
    "\n",
    "<b>На доработку🤔:</b>  Поправим красные комменты и вернемся сюда, хорошо?"
   ]
  },
  {
   "cell_type": "raw",
   "id": "d9aa043d",
   "metadata": {},
   "source": [
    "<div style=\"border:solid Chocolate 2px; padding: 40px\">\n",
    "    \n",
    "**Общий вывод по проекту ревьювера**:\n",
    " Иван, спасибо за  проект! Ты приложил много усилий, чтобы довести его до конца, проделана огромная работа, и это видно невооруженным глазом, ты большой молодец!\n",
    "    \n",
    "**Отмечу положительные моменты**:\n",
    "    \n",
    "    1. Все разложено по полочкам, всегда понятен ход твоих мыслей, приятно смотреть\n",
    "  \n",
    "    2. На разных шагах проекта ты предлагал очень интересные решения и методы для их реализации. Хорошая работа!\n",
    "    \n",
    "    \n",
    "**На что стоит обратить внимание**:\n",
    "    \n",
    "    1. На объем выборки и воможность делать вывод по ней\n",
    "    \n",
    "    \n",
    "**Удачи и жду твой проект на повторное ревью!**"
   ]
  },
  {
   "cell_type": "markdown",
   "id": "3856deac",
   "metadata": {},
   "source": [
    "<div class=\"alert alert-info\">\n",
    "<b>Спасибо за комментарии! Обратил внимание на ошибки, которые допустил по невнимательности и увидел некорректный вывод по надёжности заёмшиков в зависимости от уровня доходов. Что касается выбранного метода, то ещё конечно мало знаний для выбора подходящего и почему-то автоматически мозг всё пытается усложнить. Способ со сводной таблицей в однку строку подсмотрел в slack уже после отправки проекта на проверку.</b> \n",
    "</div>"
   ]
  },
  {
   "cell_type": "markdown",
   "id": "1fcbac07",
   "metadata": {},
   "source": [
    "<div style=\"border:solid Chocolate 2px; padding: 40px\">\n",
    "    \n",
    "**Общий вывод по проекту ревьювера**:\n",
    " Иван, ошибки исправлены, проект зачтен, только нашел одну описку в итоговом выводе. Не переживай по поводу ошибок, по меер увеличения количества знаний они будут пропадать. Спасибо за работу и еще увидимся!"
   ]
  },
  {
   "cell_type": "code",
   "execution_count": null,
   "id": "4b8d6434",
   "metadata": {},
   "outputs": [],
   "source": []
  }
 ],
 "metadata": {
  "ExecuteTimeLog": [
   {
    "duration": 49,
    "start_time": "2022-08-09T19:54:57.724Z"
   },
   {
    "duration": 449,
    "start_time": "2022-08-09T19:55:02.726Z"
   },
   {
    "duration": 23,
    "start_time": "2022-08-09T19:55:03.177Z"
   },
   {
    "duration": 21,
    "start_time": "2022-08-09T19:55:03.202Z"
   },
   {
    "duration": 18,
    "start_time": "2022-08-09T19:55:03.225Z"
   },
   {
    "duration": 42,
    "start_time": "2022-08-09T19:55:03.244Z"
   },
   {
    "duration": 4,
    "start_time": "2022-08-09T19:55:03.288Z"
   },
   {
    "duration": 17,
    "start_time": "2022-08-09T19:55:03.293Z"
   },
   {
    "duration": 7,
    "start_time": "2022-08-09T19:55:03.312Z"
   },
   {
    "duration": 17,
    "start_time": "2022-08-09T19:55:03.320Z"
   },
   {
    "duration": 9,
    "start_time": "2022-08-09T19:55:03.340Z"
   },
   {
    "duration": 49,
    "start_time": "2022-08-09T19:55:03.351Z"
   },
   {
    "duration": 10,
    "start_time": "2022-08-09T19:55:03.402Z"
   },
   {
    "duration": 5,
    "start_time": "2022-08-09T19:55:03.413Z"
   },
   {
    "duration": 14,
    "start_time": "2022-08-09T19:55:03.419Z"
   },
   {
    "duration": 23,
    "start_time": "2022-08-09T19:55:03.434Z"
   },
   {
    "duration": 17,
    "start_time": "2022-08-09T19:55:03.459Z"
   },
   {
    "duration": 26,
    "start_time": "2022-08-09T19:55:03.478Z"
   },
   {
    "duration": 14,
    "start_time": "2022-08-09T19:55:03.506Z"
   },
   {
    "duration": 6,
    "start_time": "2022-08-09T19:55:03.522Z"
   },
   {
    "duration": 19,
    "start_time": "2022-08-09T19:55:03.529Z"
   },
   {
    "duration": 14,
    "start_time": "2022-08-09T19:55:03.550Z"
   },
   {
    "duration": 9,
    "start_time": "2022-08-09T19:55:10.909Z"
   },
   {
    "duration": 11,
    "start_time": "2022-08-09T19:55:18.934Z"
   },
   {
    "duration": 9,
    "start_time": "2022-08-09T19:55:28.333Z"
   },
   {
    "duration": 12,
    "start_time": "2022-08-09T19:56:20.782Z"
   },
   {
    "duration": 12,
    "start_time": "2022-08-09T19:56:34.461Z"
   },
   {
    "duration": 12,
    "start_time": "2022-08-09T19:56:55.716Z"
   },
   {
    "duration": 12,
    "start_time": "2022-08-09T19:57:02.477Z"
   },
   {
    "duration": 8,
    "start_time": "2022-08-09T19:57:16.973Z"
   },
   {
    "duration": 8,
    "start_time": "2022-08-09T20:00:53.446Z"
   },
   {
    "duration": 7,
    "start_time": "2022-08-09T20:00:56.495Z"
   },
   {
    "duration": 7,
    "start_time": "2022-08-09T20:01:02.615Z"
   },
   {
    "duration": 6,
    "start_time": "2022-08-09T20:01:05.494Z"
   },
   {
    "duration": 4,
    "start_time": "2022-08-09T20:01:06.800Z"
   },
   {
    "duration": 8,
    "start_time": "2022-08-09T20:01:09.055Z"
   },
   {
    "duration": 9,
    "start_time": "2022-08-09T20:01:15.431Z"
   },
   {
    "duration": 31,
    "start_time": "2022-08-09T20:01:28.775Z"
   },
   {
    "duration": 23,
    "start_time": "2022-08-09T20:01:32.566Z"
   },
   {
    "duration": 4,
    "start_time": "2022-08-09T20:01:42.935Z"
   },
   {
    "duration": 8,
    "start_time": "2022-08-09T20:02:12.879Z"
   },
   {
    "duration": 7,
    "start_time": "2022-08-09T20:04:57.576Z"
   },
   {
    "duration": 6,
    "start_time": "2022-08-09T20:05:24.769Z"
   },
   {
    "duration": 9,
    "start_time": "2022-08-09T20:05:30.249Z"
   },
   {
    "duration": 8,
    "start_time": "2022-08-09T20:06:56.753Z"
   },
   {
    "duration": 11,
    "start_time": "2022-08-09T20:06:59.097Z"
   },
   {
    "duration": 5,
    "start_time": "2022-08-09T20:12:40.579Z"
   },
   {
    "duration": 4,
    "start_time": "2022-08-09T20:12:53.011Z"
   },
   {
    "duration": 19,
    "start_time": "2022-08-09T20:13:06.926Z"
   },
   {
    "duration": 29,
    "start_time": "2022-08-09T20:13:21.690Z"
   },
   {
    "duration": 8,
    "start_time": "2022-08-09T20:13:45.148Z"
   },
   {
    "duration": 7,
    "start_time": "2022-08-09T20:14:23.068Z"
   },
   {
    "duration": 7,
    "start_time": "2022-08-09T20:15:13.609Z"
   },
   {
    "duration": 6,
    "start_time": "2022-08-09T20:15:21.875Z"
   },
   {
    "duration": 7,
    "start_time": "2022-08-09T20:15:34.980Z"
   },
   {
    "duration": 8,
    "start_time": "2022-08-09T20:15:59.173Z"
   },
   {
    "duration": 7,
    "start_time": "2022-08-09T20:16:08.676Z"
   },
   {
    "duration": 9,
    "start_time": "2022-08-09T20:20:53.756Z"
   },
   {
    "duration": 7,
    "start_time": "2022-08-09T20:21:13.319Z"
   },
   {
    "duration": 9,
    "start_time": "2022-08-09T20:21:50.207Z"
   },
   {
    "duration": 10,
    "start_time": "2022-08-09T20:21:55.495Z"
   },
   {
    "duration": 12,
    "start_time": "2022-08-09T20:22:01.334Z"
   },
   {
    "duration": 12,
    "start_time": "2022-08-09T20:22:07.045Z"
   },
   {
    "duration": 13,
    "start_time": "2022-08-09T20:22:22.592Z"
   },
   {
    "duration": 4,
    "start_time": "2022-08-09T20:23:18.150Z"
   },
   {
    "duration": 5,
    "start_time": "2022-08-09T20:24:09.638Z"
   },
   {
    "duration": 8,
    "start_time": "2022-08-09T20:24:25.382Z"
   },
   {
    "duration": 8,
    "start_time": "2022-08-09T20:24:33.927Z"
   },
   {
    "duration": 13,
    "start_time": "2022-08-09T20:25:06.960Z"
   },
   {
    "duration": 10,
    "start_time": "2022-08-09T20:25:15.303Z"
   },
   {
    "duration": 30,
    "start_time": "2022-08-09T20:26:18.661Z"
   },
   {
    "duration": 5,
    "start_time": "2022-08-09T20:27:29.760Z"
   },
   {
    "duration": 5,
    "start_time": "2022-08-09T20:28:08.000Z"
   },
   {
    "duration": 4,
    "start_time": "2022-08-09T20:28:11.625Z"
   },
   {
    "duration": 6,
    "start_time": "2022-08-09T20:29:08.088Z"
   },
   {
    "duration": 11,
    "start_time": "2022-08-09T20:30:26.761Z"
   },
   {
    "duration": 9,
    "start_time": "2022-08-09T20:30:32.801Z"
   },
   {
    "duration": 11,
    "start_time": "2022-08-09T20:32:28.483Z"
   },
   {
    "duration": 10,
    "start_time": "2022-08-09T20:35:40.481Z"
   },
   {
    "duration": 10,
    "start_time": "2022-08-09T20:35:43.531Z"
   },
   {
    "duration": 5,
    "start_time": "2022-08-09T20:36:32.514Z"
   },
   {
    "duration": 5,
    "start_time": "2022-08-09T21:03:59.287Z"
   },
   {
    "duration": 12,
    "start_time": "2022-08-09T21:04:20.431Z"
   },
   {
    "duration": 12,
    "start_time": "2022-08-09T21:06:44.318Z"
   },
   {
    "duration": 13,
    "start_time": "2022-08-09T21:07:47.950Z"
   },
   {
    "duration": 16,
    "start_time": "2022-08-09T21:24:25.837Z"
   },
   {
    "duration": 12,
    "start_time": "2022-08-09T21:24:59.566Z"
   },
   {
    "duration": 13,
    "start_time": "2022-08-09T21:25:04.832Z"
   },
   {
    "duration": 19,
    "start_time": "2022-08-09T21:29:03.334Z"
   },
   {
    "duration": 19,
    "start_time": "2022-08-09T21:29:21.017Z"
   },
   {
    "duration": 16,
    "start_time": "2022-08-09T21:29:34.500Z"
   },
   {
    "duration": 430,
    "start_time": "2022-08-09T21:29:47.958Z"
   },
   {
    "duration": 26,
    "start_time": "2022-08-09T21:29:52.064Z"
   },
   {
    "duration": 16,
    "start_time": "2022-08-09T21:30:07.149Z"
   },
   {
    "duration": 71,
    "start_time": "2022-08-09T21:32:22.540Z"
   },
   {
    "duration": 15,
    "start_time": "2022-08-09T21:32:22.613Z"
   },
   {
    "duration": 18,
    "start_time": "2022-08-09T21:32:22.629Z"
   },
   {
    "duration": 9,
    "start_time": "2022-08-09T21:32:22.649Z"
   },
   {
    "duration": 50,
    "start_time": "2022-08-09T21:32:22.659Z"
   },
   {
    "duration": 4,
    "start_time": "2022-08-09T21:32:22.710Z"
   },
   {
    "duration": 16,
    "start_time": "2022-08-09T21:32:22.715Z"
   },
   {
    "duration": 4,
    "start_time": "2022-08-09T21:32:22.733Z"
   },
   {
    "duration": 32,
    "start_time": "2022-08-09T21:32:22.738Z"
   },
   {
    "duration": 4,
    "start_time": "2022-08-09T21:32:22.773Z"
   },
   {
    "duration": 41,
    "start_time": "2022-08-09T21:32:22.779Z"
   },
   {
    "duration": 9,
    "start_time": "2022-08-09T21:32:22.821Z"
   },
   {
    "duration": 8,
    "start_time": "2022-08-09T21:32:22.832Z"
   },
   {
    "duration": 14,
    "start_time": "2022-08-09T21:32:22.842Z"
   },
   {
    "duration": 21,
    "start_time": "2022-08-09T21:32:22.858Z"
   },
   {
    "duration": 31,
    "start_time": "2022-08-09T21:32:22.880Z"
   },
   {
    "duration": 3,
    "start_time": "2022-08-09T21:32:22.913Z"
   },
   {
    "duration": 15,
    "start_time": "2022-08-09T21:32:22.918Z"
   },
   {
    "duration": 6,
    "start_time": "2022-08-09T21:32:22.934Z"
   },
   {
    "duration": 5,
    "start_time": "2022-08-09T21:32:22.942Z"
   },
   {
    "duration": 11,
    "start_time": "2022-08-09T21:32:22.948Z"
   },
   {
    "duration": 6,
    "start_time": "2022-08-09T21:32:22.960Z"
   },
   {
    "duration": 37,
    "start_time": "2022-08-09T21:32:22.968Z"
   },
   {
    "duration": 7,
    "start_time": "2022-08-09T21:32:23.007Z"
   },
   {
    "duration": 17,
    "start_time": "2022-08-09T21:32:23.015Z"
   },
   {
    "duration": 9,
    "start_time": "2022-08-09T21:32:23.033Z"
   },
   {
    "duration": 13,
    "start_time": "2022-08-09T21:32:23.044Z"
   },
   {
    "duration": 16,
    "start_time": "2022-08-09T21:32:23.060Z"
   },
   {
    "duration": 27,
    "start_time": "2022-08-09T21:32:23.077Z"
   },
   {
    "duration": 4,
    "start_time": "2022-08-09T21:32:23.106Z"
   },
   {
    "duration": 16,
    "start_time": "2022-08-09T21:32:23.112Z"
   },
   {
    "duration": 12,
    "start_time": "2022-08-09T21:32:23.130Z"
   },
   {
    "duration": 46,
    "start_time": "2022-08-10T11:37:44.992Z"
   },
   {
    "duration": 657,
    "start_time": "2022-08-10T11:37:53.016Z"
   },
   {
    "duration": 22,
    "start_time": "2022-08-10T11:37:53.675Z"
   },
   {
    "duration": 18,
    "start_time": "2022-08-10T11:37:53.699Z"
   },
   {
    "duration": 11,
    "start_time": "2022-08-10T11:37:53.719Z"
   },
   {
    "duration": 50,
    "start_time": "2022-08-10T11:37:53.733Z"
   },
   {
    "duration": 3,
    "start_time": "2022-08-10T11:37:53.785Z"
   },
   {
    "duration": 16,
    "start_time": "2022-08-10T11:37:53.789Z"
   },
   {
    "duration": 15,
    "start_time": "2022-08-10T11:37:53.806Z"
   },
   {
    "duration": 12,
    "start_time": "2022-08-10T11:37:53.823Z"
   },
   {
    "duration": 18,
    "start_time": "2022-08-10T11:37:53.837Z"
   },
   {
    "duration": 34,
    "start_time": "2022-08-10T11:37:53.857Z"
   },
   {
    "duration": 10,
    "start_time": "2022-08-10T11:37:53.893Z"
   },
   {
    "duration": 11,
    "start_time": "2022-08-10T11:37:53.904Z"
   },
   {
    "duration": 28,
    "start_time": "2022-08-10T11:37:53.917Z"
   },
   {
    "duration": 37,
    "start_time": "2022-08-10T11:37:53.946Z"
   },
   {
    "duration": 27,
    "start_time": "2022-08-10T11:37:53.985Z"
   },
   {
    "duration": 4,
    "start_time": "2022-08-10T11:37:54.014Z"
   },
   {
    "duration": 29,
    "start_time": "2022-08-10T11:37:54.020Z"
   },
   {
    "duration": 11,
    "start_time": "2022-08-10T11:37:54.051Z"
   },
   {
    "duration": 5,
    "start_time": "2022-08-10T11:37:54.064Z"
   },
   {
    "duration": 16,
    "start_time": "2022-08-10T11:37:54.071Z"
   },
   {
    "duration": 9,
    "start_time": "2022-08-10T11:37:54.089Z"
   },
   {
    "duration": 15,
    "start_time": "2022-08-10T11:37:54.099Z"
   },
   {
    "duration": 9,
    "start_time": "2022-08-10T11:37:54.116Z"
   },
   {
    "duration": 8,
    "start_time": "2022-08-10T11:37:54.127Z"
   },
   {
    "duration": 5,
    "start_time": "2022-08-10T11:37:54.136Z"
   },
   {
    "duration": 23,
    "start_time": "2022-08-10T11:37:56.289Z"
   },
   {
    "duration": 24,
    "start_time": "2022-08-10T11:38:01.891Z"
   },
   {
    "duration": 53,
    "start_time": "2022-08-10T11:38:49.270Z"
   },
   {
    "duration": 23,
    "start_time": "2022-08-10T11:38:59.538Z"
   },
   {
    "duration": 25,
    "start_time": "2022-08-10T11:39:02.599Z"
   },
   {
    "duration": 22,
    "start_time": "2022-08-10T11:40:44.470Z"
   },
   {
    "duration": 178,
    "start_time": "2022-08-10T11:41:03.891Z"
   },
   {
    "duration": 31,
    "start_time": "2022-08-10T11:41:20.881Z"
   },
   {
    "duration": 28,
    "start_time": "2022-08-10T11:41:53.512Z"
   },
   {
    "duration": 25,
    "start_time": "2022-08-10T11:46:55.971Z"
   },
   {
    "duration": 42,
    "start_time": "2022-08-10T11:47:02.171Z"
   },
   {
    "duration": 42,
    "start_time": "2022-08-10T11:51:28.277Z"
   },
   {
    "duration": 30,
    "start_time": "2022-08-10T11:51:37.570Z"
   },
   {
    "duration": 30,
    "start_time": "2022-08-10T11:51:46.807Z"
   },
   {
    "duration": 37,
    "start_time": "2022-08-10T11:52:17.151Z"
   },
   {
    "duration": 40,
    "start_time": "2022-08-10T11:52:20.334Z"
   },
   {
    "duration": 24,
    "start_time": "2022-08-10T11:52:36.285Z"
   },
   {
    "duration": 29,
    "start_time": "2022-08-10T11:52:40.482Z"
   },
   {
    "duration": 29,
    "start_time": "2022-08-10T11:52:46.385Z"
   },
   {
    "duration": 25,
    "start_time": "2022-08-10T11:53:07.839Z"
   },
   {
    "duration": 25,
    "start_time": "2022-08-10T11:55:28.301Z"
   },
   {
    "duration": 4,
    "start_time": "2022-08-10T11:58:56.098Z"
   },
   {
    "duration": 10,
    "start_time": "2022-08-10T11:59:53.003Z"
   },
   {
    "duration": 4,
    "start_time": "2022-08-10T12:00:00.070Z"
   },
   {
    "duration": 10,
    "start_time": "2022-08-10T12:00:00.802Z"
   },
   {
    "duration": 37,
    "start_time": "2022-08-10T12:00:29.298Z"
   },
   {
    "duration": 34,
    "start_time": "2022-08-10T12:00:35.821Z"
   },
   {
    "duration": 35,
    "start_time": "2022-08-10T12:01:01.134Z"
   },
   {
    "duration": 38,
    "start_time": "2022-08-10T12:05:31.059Z"
   },
   {
    "duration": 46,
    "start_time": "2022-08-10T12:09:08.746Z"
   },
   {
    "duration": 32,
    "start_time": "2022-08-10T12:10:11.819Z"
   },
   {
    "duration": 37,
    "start_time": "2022-08-10T12:10:25.583Z"
   },
   {
    "duration": 33,
    "start_time": "2022-08-10T12:10:36.662Z"
   }
  ],
  "colab": {
   "name": "dpp_template_part2.ipynb",
   "provenance": []
  },
  "kernelspec": {
   "display_name": "Python 3",
   "language": "python",
   "name": "python3"
  },
  "language_info": {
   "codemirror_mode": {
    "name": "ipython",
    "version": 3
   },
   "file_extension": ".py",
   "mimetype": "text/x-python",
   "name": "python",
   "nbconvert_exporter": "python",
   "pygments_lexer": "ipython3",
   "version": "3.8.8"
  },
  "toc": {
   "base_numbering": 1,
   "nav_menu": {},
   "number_sections": true,
   "sideBar": true,
   "skip_h1_title": true,
   "title_cell": "Table of Contents",
   "title_sidebar": "Contents",
   "toc_cell": false,
   "toc_position": {},
   "toc_section_display": true,
   "toc_window_display": false
  }
 },
 "nbformat": 4,
 "nbformat_minor": 5
}
