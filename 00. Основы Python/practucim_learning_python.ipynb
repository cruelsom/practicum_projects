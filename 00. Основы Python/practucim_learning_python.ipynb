{
  "cells": [
    {
      "cell_type": "markdown",
      "metadata": {
        "id": "view-in-github",
        "colab_type": "text"
      },
      "source": [
        "<a href=\"https://colab.research.google.com/github/cruelsom/practicum_projects/blob/main/practucim_learning_python.ipynb\" target=\"_parent\"><img src=\"https://colab.research.google.com/assets/colab-badge.svg\" alt=\"Open In Colab\"/></a>"
      ]
    },
    {
      "cell_type": "markdown",
      "source": [
        "# 00. Основы Python"
      ],
      "metadata": {
        "id": "WzO623OOQUo4"
      },
      "id": "WzO623OOQUo4"
    },
    {
      "cell_type": "markdown",
      "source": [
        "## Переменные"
      ],
      "metadata": {
        "id": "zVtSyFnVRi9T"
      },
      "id": "zVtSyFnVRi9T"
    },
    {
      "cell_type": "code",
      "execution_count": null,
      "id": "94c9a4b1",
      "metadata": {
        "colab": {
          "base_uri": "https://localhost:8080/"
        },
        "id": "94c9a4b1",
        "outputId": "63a939fb-a1ca-484d-d5ef-a00546434b34"
      },
      "outputs": [
        {
          "output_type": "stream",
          "name": "stdout",
          "text": [
            "Количество носителей русского языка\n",
            "153.9\n"
          ]
        }
      ],
      "source": [
        "# объявление переменных\n",
        "ru_native_speakers = 'Количество носителей русского языка'\n",
        "ru_native_speakers_number = 153.9\n",
        "# вывод значений переменных на экран\n",
        "print(ru_native_speakers)\n",
        "print(ru_native_speakers_number)"
      ]
    },
    {
      "cell_type": "markdown",
      "source": [
        "\n"
      ],
      "metadata": {
        "id": "BHp-2iGpQ9KN"
      },
      "id": "BHp-2iGpQ9KN"
    },
    {
      "cell_type": "code",
      "source": [
        "english = 378.2\n",
        "russian = 153.9\n",
        "german = 76.0\n",
        "chinese = 908.7\n",
        "\n",
        "top3_total = english + russian + german\n",
        "\n",
        "print(chinese - top3_total)"
      ],
      "metadata": {
        "colab": {
          "base_uri": "https://localhost:8080/"
        },
        "id": "vj1KTvo6RJjJ",
        "outputId": "0e29a8d5-07f3-4094-b820-f6a9affb6768"
      },
      "id": "vj1KTvo6RJjJ",
      "execution_count": null,
      "outputs": [
        {
          "output_type": "stream",
          "name": "stdout",
          "text": [
            "300.6\n"
          ]
        }
      ]
    },
    {
      "cell_type": "markdown",
      "id": "789a77d7",
      "metadata": {
        "id": "789a77d7"
      },
      "source": [
        "# Базовый Python"
      ]
    },
    {
      "cell_type": "markdown",
      "id": "2dd0ff3e",
      "metadata": {
        "id": "2dd0ff3e"
      },
      "source": [
        "## Цикл while\n",
        "\n",
        "Цикл for справляется со случаями, когда количество повторений заведомо известно. Например, перебирая элементы списка или его индексы, мы заранее можем сказать, сколько будет шагов цикла. Столько же, сколько элементов в списке.\n",
        "\n",
        "Но количество повторений известно не всегда:\n",
        "    Когда пользователь вводит текст в форму, цикл может обрабатывать эти данные прямо во время ввода. Такой цикл не должен останавливаться, пока пользователь не закончит ввод.\n",
        "    Если веб-камера реагирует на движение, цикл может пересылать данные, пока движение не прекратится.\n",
        "    \n",
        "Для таких случаев подходит другой цикл — while (от англ. «пока»).\n",
        "\n",
        "В цикле while перед очередным шагом происходит проверка условия. Если это условие оказывается истинным — выполняются инструкции из тела цикла. Цикл остановится, когда логическое выражение в условии вернёт False.\n",
        "\n",
        "Разберём пример. Умный лифт считает общий вес пассажиров. Каждый раз, когда в лифт входит новый пассажир, цикл while проверяет превышение максимального веса, который выдерживает лифт.\n",
        "\n",
        "Для этого эксперимента мы будем считать, что вес каждого нового пассажира — случайная величина от 30 до 120. Это значение переменной присваивает специальная функция, randint. О генерации случайных чисел подробнее расскажем в следующих курсах."
      ]
    },
    {
      "cell_type": "code",
      "execution_count": null,
      "id": "f71d1b5a",
      "metadata": {
        "colab": {
          "base_uri": "https://localhost:8080/"
        },
        "id": "f71d1b5a",
        "outputId": "06ce8e6d-281b-4b17-b5ea-d448702a9987"
      },
      "outputs": [
        {
          "output_type": "stream",
          "name": "stdout",
          "text": [
            "А всё уже, всё уже! Лифт заполнен! Раньше надо было! Загруженность: 433\n"
          ]
        }
      ],
      "source": [
        "from random import randint\n",
        "\n",
        "capacity = 400 # грузоподъёмность лифта\n",
        "total_weight = 0 # переменная для суммарного веса\n",
        "\n",
        "while total_weight < capacity: # пока суммарный вес меньше грузоподъёмности лифта\n",
        "    person_weight = randint(30, 120) # генерируется случайное целое число от 30 до 120\n",
        "    total_weight += person_weight # сгенерированный вес добавляется к суммарному весу\n",
        "\n",
        "print(f'А всё уже, всё уже! Лифт заполнен! Раньше надо было! Загруженность: {total_weight}')"
      ]
    },
    {
      "cell_type": "markdown",
      "id": "bc061b7c",
      "metadata": {
        "id": "bc061b7c"
      },
      "source": [
        "## Функции\n",
        "Функция принимает длительность трека в виде строки в формате мм:сс, разбивает на секунды и минуты"
      ]
    },
    {
      "cell_type": "code",
      "execution_count": null,
      "id": "253872a6",
      "metadata": {
        "scrolled": false,
        "id": "253872a6"
      },
      "outputs": [],
      "source": [
        "def gaet_minutes_and_seconds(time_string):\n",
        "    time_list = time_string.split(':')\n",
        "    m = int(time_list[0])\n",
        "    s = int(time_list[1])\n",
        "    return m, s"
      ]
    },
    {
      "cell_type": "markdown",
      "id": "0cdff771",
      "metadata": {
        "id": "0cdff771"
      },
      "source": [
        "Функция вызывает предыдущую функцию, переводит длительность трека в секунды и сравнивает с длительностью"
      ]
    },
    {
      "cell_type": "code",
      "execution_count": null,
      "id": "a210a745",
      "metadata": {
        "id": "a210a745"
      },
      "outputs": [],
      "source": [
        "def check_song_duration(time_string):\n",
        "    minutes, seconds = get_minutes_and_seconds(time_string)\n",
        "    seconds = minutes * 60 + seconds\n",
        "    return seconds <= 210"
      ]
    },
    {
      "cell_type": "markdown",
      "id": "265d5454",
      "metadata": {
        "id": "265d5454"
      },
      "source": [
        "Список с длительностью треков"
      ]
    },
    {
      "cell_type": "code",
      "execution_count": null,
      "id": "1b21a532",
      "metadata": {
        "id": "1b21a532"
      },
      "outputs": [],
      "source": [
        "tracks = ['2:25', '2:35', '3:45', '2:00', '5:10']"
      ]
    },
    {
      "cell_type": "markdown",
      "id": "4e0c35e1",
      "metadata": {
        "id": "4e0c35e1"
      },
      "source": [
        "Цикл проходит по списку с длительностью треков и вызывает функцию проверки длительности - больше или меньше 210 секунд"
      ]
    },
    {
      "cell_type": "code",
      "execution_count": null,
      "id": "c818e9bf",
      "metadata": {
        "scrolled": true,
        "colab": {
          "base_uri": "https://localhost:8080/",
          "height": 287
        },
        "id": "c818e9bf",
        "outputId": "82377723-914b-4029-9f21-9817143c75ae"
      },
      "outputs": [
        {
          "output_type": "error",
          "ename": "NameError",
          "evalue": "ignored",
          "traceback": [
            "\u001b[0;31m---------------------------------------------------------------------------\u001b[0m",
            "\u001b[0;31mNameError\u001b[0m                                 Traceback (most recent call last)",
            "\u001b[0;32m<ipython-input-10-b17d4059bcd3>\u001b[0m in \u001b[0;36m<module>\u001b[0;34m()\u001b[0m\n\u001b[1;32m      1\u001b[0m \u001b[0;32mfor\u001b[0m \u001b[0mtrack\u001b[0m \u001b[0;32min\u001b[0m \u001b[0mtracks\u001b[0m\u001b[0;34m:\u001b[0m\u001b[0;34m\u001b[0m\u001b[0;34m\u001b[0m\u001b[0m\n\u001b[0;32m----> 2\u001b[0;31m     \u001b[0mprint\u001b[0m\u001b[0;34m(\u001b[0m\u001b[0mcheck_song_duration\u001b[0m\u001b[0;34m(\u001b[0m\u001b[0mtrack\u001b[0m\u001b[0;34m)\u001b[0m\u001b[0;34m)\u001b[0m\u001b[0;34m\u001b[0m\u001b[0;34m\u001b[0m\u001b[0m\n\u001b[0m",
            "\u001b[0;32m<ipython-input-8-cf8c6337852c>\u001b[0m in \u001b[0;36mcheck_song_duration\u001b[0;34m(time_string)\u001b[0m\n\u001b[1;32m      1\u001b[0m \u001b[0;32mdef\u001b[0m \u001b[0mcheck_song_duration\u001b[0m\u001b[0;34m(\u001b[0m\u001b[0mtime_string\u001b[0m\u001b[0;34m)\u001b[0m\u001b[0;34m:\u001b[0m\u001b[0;34m\u001b[0m\u001b[0;34m\u001b[0m\u001b[0m\n\u001b[0;32m----> 2\u001b[0;31m     \u001b[0mminutes\u001b[0m\u001b[0;34m,\u001b[0m \u001b[0mseconds\u001b[0m \u001b[0;34m=\u001b[0m \u001b[0mget_minutes_and_seconds\u001b[0m\u001b[0;34m(\u001b[0m\u001b[0mtime_string\u001b[0m\u001b[0;34m)\u001b[0m\u001b[0;34m\u001b[0m\u001b[0;34m\u001b[0m\u001b[0m\n\u001b[0m\u001b[1;32m      3\u001b[0m     \u001b[0mseconds\u001b[0m \u001b[0;34m=\u001b[0m \u001b[0mminutes\u001b[0m \u001b[0;34m*\u001b[0m \u001b[0;36m60\u001b[0m \u001b[0;34m+\u001b[0m \u001b[0mseconds\u001b[0m\u001b[0;34m\u001b[0m\u001b[0;34m\u001b[0m\u001b[0m\n\u001b[1;32m      4\u001b[0m     \u001b[0;32mreturn\u001b[0m \u001b[0mseconds\u001b[0m \u001b[0;34m<=\u001b[0m \u001b[0;36m210\u001b[0m\u001b[0;34m\u001b[0m\u001b[0;34m\u001b[0m\u001b[0m\n",
            "\u001b[0;31mNameError\u001b[0m: name 'get_minutes_and_seconds' is not defined"
          ]
        }
      ],
      "source": [
        "for track in tracks:\n",
        "    print(check_song_duration(track))"
      ]
    },
    {
      "cell_type": "markdown",
      "source": [
        "# "
      ],
      "metadata": {
        "id": "1oG5ndpjQZys"
      },
      "id": "1oG5ndpjQZys"
    }
  ],
  "metadata": {
    "kernelspec": {
      "display_name": "Python 3 (ipykernel)",
      "language": "python",
      "name": "python3"
    },
    "language_info": {
      "codemirror_mode": {
        "name": "ipython",
        "version": 3
      },
      "file_extension": ".py",
      "mimetype": "text/x-python",
      "name": "python",
      "nbconvert_exporter": "python",
      "pygments_lexer": "ipython3",
      "version": "3.9.12"
    },
    "colab": {
      "name": "practucim_learning_python.ipynb",
      "provenance": [],
      "include_colab_link": true
    }
  },
  "nbformat": 4,
  "nbformat_minor": 5
}
